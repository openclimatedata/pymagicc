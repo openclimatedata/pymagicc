{
 "cells": [
  {
   "cell_type": "code",
   "execution_count": 1,
   "metadata": {},
   "outputs": [
    {
     "name": "stderr",
     "output_type": "stream",
     "text": [
      "/usr/local/Cellar/python/3.6.5/Frameworks/Python.framework/Versions/3.6/lib/python3.6/importlib/_bootstrap.py:219: RuntimeWarning: numpy.dtype size changed, may indicate binary incompatibility. Expected 96, got 88\n",
      "  return f(*args, **kwds)\n",
      "/usr/local/Cellar/python/3.6.5/Frameworks/Python.framework/Versions/3.6/lib/python3.6/importlib/_bootstrap.py:219: RuntimeWarning: numpy.dtype size changed, may indicate binary incompatibility. Expected 96, got 88\n",
      "  return f(*args, **kwds)\n"
     ]
    },
    {
     "name": "stdout",
     "output_type": "stream",
     "text": [
      "> /Users/zebedeenicholls/Documents/AGCEC/MCastle/pymagicc/pymagicc/definitions/__init__.py(6)<module>()\n",
      "-> pd.read_csv(\n",
      "(Pdb) q\n"
     ]
    },
    {
     "ename": "BdbQuit",
     "evalue": "",
     "output_type": "error",
     "traceback": [
      "\u001b[0;31m---------------------------------------------------------------------------\u001b[0m",
      "\u001b[0;31mBdbQuit\u001b[0m                                   Traceback (most recent call last)",
      "\u001b[0;32m<ipython-input-1-a579e28792eb>\u001b[0m in \u001b[0;36m<module>\u001b[0;34m()\u001b[0m\n\u001b[1;32m      3\u001b[0m \u001b[0;32mimport\u001b[0m \u001b[0mpandas\u001b[0m \u001b[0;32mas\u001b[0m \u001b[0mpd\u001b[0m\u001b[0;34m\u001b[0m\u001b[0m\n\u001b[1;32m      4\u001b[0m \u001b[0;32mimport\u001b[0m \u001b[0mpymagicc\u001b[0m\u001b[0;34m\u001b[0m\u001b[0m\n\u001b[0;32m----> 5\u001b[0;31m \u001b[0;32mfrom\u001b[0m \u001b[0mpymagicc\u001b[0m\u001b[0;34m.\u001b[0m\u001b[0minput\u001b[0m \u001b[0;32mimport\u001b[0m \u001b[0mMAGICCInput\u001b[0m\u001b[0;34m\u001b[0m\u001b[0m\n\u001b[0m",
      "\u001b[0;32m~/Documents/AGCEC/MCastle/pymagicc/pymagicc/input.py\u001b[0m in \u001b[0;36m<module>\u001b[0;34m()\u001b[0m\n\u001b[1;32m      9\u001b[0m \u001b[0;34m\u001b[0m\u001b[0m\n\u001b[1;32m     10\u001b[0m \u001b[0;32mfrom\u001b[0m \u001b[0mpymagicc\u001b[0m \u001b[0;32mimport\u001b[0m \u001b[0mMAGICC6\u001b[0m\u001b[0;34m\u001b[0m\u001b[0m\n\u001b[0;32m---> 11\u001b[0;31m \u001b[0;32mfrom\u001b[0m \u001b[0;34m.\u001b[0m\u001b[0mdefinitions\u001b[0m \u001b[0;32mimport\u001b[0m \u001b[0mdattype_regionmode_regions\u001b[0m\u001b[0;34m,\u001b[0m \u001b[0memissions_units\u001b[0m\u001b[0;34m,\u001b[0m \u001b[0mconcentrations_units\u001b[0m\u001b[0;34m\u001b[0m\u001b[0m\n\u001b[0m\u001b[1;32m     12\u001b[0m \u001b[0;34m\u001b[0m\u001b[0m\n\u001b[1;32m     13\u001b[0m \u001b[0;34m\u001b[0m\u001b[0m\n",
      "\u001b[0;32m~/Documents/AGCEC/MCastle/pymagicc/pymagicc/definitions/__init__.py\u001b[0m in \u001b[0;36m<module>\u001b[0;34m()\u001b[0m\n\u001b[1;32m      4\u001b[0m \u001b[0;32mimport\u001b[0m \u001b[0mpdb\u001b[0m\u001b[0;34m\u001b[0m\u001b[0m\n\u001b[1;32m      5\u001b[0m \u001b[0mpdb\u001b[0m\u001b[0;34m.\u001b[0m\u001b[0mset_trace\u001b[0m\u001b[0;34m(\u001b[0m\u001b[0;34m)\u001b[0m\u001b[0;34m\u001b[0m\u001b[0m\n\u001b[0;32m----> 6\u001b[0;31m pd.read_csv(\n\u001b[0m\u001b[1;32m      7\u001b[0m     \u001b[0mjoin\u001b[0m\u001b[0;34m(\u001b[0m\u001b[0mdirname\u001b[0m\u001b[0;34m(\u001b[0m\u001b[0m__file__\u001b[0m\u001b[0;34m)\u001b[0m\u001b[0;34m,\u001b[0m \u001b[0;34m\"magicc_dattype_regionmode_regions.csv\"\u001b[0m\u001b[0;34m)\u001b[0m\u001b[0;34m,\u001b[0m\u001b[0;34m\u001b[0m\u001b[0m\n\u001b[1;32m      8\u001b[0m )\n",
      "\u001b[0;32m~/Documents/AGCEC/MCastle/pymagicc/pymagicc/definitions/__init__.py\u001b[0m in \u001b[0;36m<module>\u001b[0;34m()\u001b[0m\n\u001b[1;32m      4\u001b[0m \u001b[0;32mimport\u001b[0m \u001b[0mpdb\u001b[0m\u001b[0;34m\u001b[0m\u001b[0m\n\u001b[1;32m      5\u001b[0m \u001b[0mpdb\u001b[0m\u001b[0;34m.\u001b[0m\u001b[0mset_trace\u001b[0m\u001b[0;34m(\u001b[0m\u001b[0;34m)\u001b[0m\u001b[0;34m\u001b[0m\u001b[0m\n\u001b[0;32m----> 6\u001b[0;31m pd.read_csv(\n\u001b[0m\u001b[1;32m      7\u001b[0m     \u001b[0mjoin\u001b[0m\u001b[0;34m(\u001b[0m\u001b[0mdirname\u001b[0m\u001b[0;34m(\u001b[0m\u001b[0m__file__\u001b[0m\u001b[0;34m)\u001b[0m\u001b[0;34m,\u001b[0m \u001b[0;34m\"magicc_dattype_regionmode_regions.csv\"\u001b[0m\u001b[0;34m)\u001b[0m\u001b[0;34m,\u001b[0m\u001b[0;34m\u001b[0m\u001b[0m\n\u001b[1;32m      8\u001b[0m )\n",
      "\u001b[0;32m/usr/local/Cellar/python/3.6.5/Frameworks/Python.framework/Versions/3.6/lib/python3.6/bdb.py\u001b[0m in \u001b[0;36mtrace_dispatch\u001b[0;34m(self, frame, event, arg)\u001b[0m\n\u001b[1;32m     49\u001b[0m             \u001b[0;32mreturn\u001b[0m \u001b[0;31m# None\u001b[0m\u001b[0;34m\u001b[0m\u001b[0m\n\u001b[1;32m     50\u001b[0m         \u001b[0;32mif\u001b[0m \u001b[0mevent\u001b[0m \u001b[0;34m==\u001b[0m \u001b[0;34m'line'\u001b[0m\u001b[0;34m:\u001b[0m\u001b[0;34m\u001b[0m\u001b[0m\n\u001b[0;32m---> 51\u001b[0;31m             \u001b[0;32mreturn\u001b[0m \u001b[0mself\u001b[0m\u001b[0;34m.\u001b[0m\u001b[0mdispatch_line\u001b[0m\u001b[0;34m(\u001b[0m\u001b[0mframe\u001b[0m\u001b[0;34m)\u001b[0m\u001b[0;34m\u001b[0m\u001b[0m\n\u001b[0m\u001b[1;32m     52\u001b[0m         \u001b[0;32mif\u001b[0m \u001b[0mevent\u001b[0m \u001b[0;34m==\u001b[0m \u001b[0;34m'call'\u001b[0m\u001b[0;34m:\u001b[0m\u001b[0;34m\u001b[0m\u001b[0m\n\u001b[1;32m     53\u001b[0m             \u001b[0;32mreturn\u001b[0m \u001b[0mself\u001b[0m\u001b[0;34m.\u001b[0m\u001b[0mdispatch_call\u001b[0m\u001b[0;34m(\u001b[0m\u001b[0mframe\u001b[0m\u001b[0;34m,\u001b[0m \u001b[0marg\u001b[0m\u001b[0;34m)\u001b[0m\u001b[0;34m\u001b[0m\u001b[0m\n",
      "\u001b[0;32m/usr/local/Cellar/python/3.6.5/Frameworks/Python.framework/Versions/3.6/lib/python3.6/bdb.py\u001b[0m in \u001b[0;36mdispatch_line\u001b[0;34m(self, frame)\u001b[0m\n\u001b[1;32m     68\u001b[0m         \u001b[0;32mif\u001b[0m \u001b[0mself\u001b[0m\u001b[0;34m.\u001b[0m\u001b[0mstop_here\u001b[0m\u001b[0;34m(\u001b[0m\u001b[0mframe\u001b[0m\u001b[0;34m)\u001b[0m \u001b[0;32mor\u001b[0m \u001b[0mself\u001b[0m\u001b[0;34m.\u001b[0m\u001b[0mbreak_here\u001b[0m\u001b[0;34m(\u001b[0m\u001b[0mframe\u001b[0m\u001b[0;34m)\u001b[0m\u001b[0;34m:\u001b[0m\u001b[0;34m\u001b[0m\u001b[0m\n\u001b[1;32m     69\u001b[0m             \u001b[0mself\u001b[0m\u001b[0;34m.\u001b[0m\u001b[0muser_line\u001b[0m\u001b[0;34m(\u001b[0m\u001b[0mframe\u001b[0m\u001b[0;34m)\u001b[0m\u001b[0;34m\u001b[0m\u001b[0m\n\u001b[0;32m---> 70\u001b[0;31m             \u001b[0;32mif\u001b[0m \u001b[0mself\u001b[0m\u001b[0;34m.\u001b[0m\u001b[0mquitting\u001b[0m\u001b[0;34m:\u001b[0m \u001b[0;32mraise\u001b[0m \u001b[0mBdbQuit\u001b[0m\u001b[0;34m\u001b[0m\u001b[0m\n\u001b[0m\u001b[1;32m     71\u001b[0m         \u001b[0;32mreturn\u001b[0m \u001b[0mself\u001b[0m\u001b[0;34m.\u001b[0m\u001b[0mtrace_dispatch\u001b[0m\u001b[0;34m\u001b[0m\u001b[0m\n\u001b[1;32m     72\u001b[0m \u001b[0;34m\u001b[0m\u001b[0m\n",
      "\u001b[0;31mBdbQuit\u001b[0m: "
     ]
    }
   ],
   "source": [
    "from os.path import join\n",
    "\n",
    "import pandas as pd\n",
    "import pymagicc\n",
    "from pymagicc.input import MAGICCInput"
   ]
  },
  {
   "cell_type": "code",
   "execution_count": null,
   "metadata": {},
   "outputs": [],
   "source": [
    "MAGICC6_DIR = join(\"..\", \"pymagicc\", \"MAGICC6\", \"run\")"
   ]
  },
  {
   "cell_type": "code",
   "execution_count": null,
   "metadata": {},
   "outputs": [],
   "source": [
    "mdata = MAGICCInput()\n",
    "mdata.read(MAGICC6_DIR, \"HISTRCP_CO2I_EMIS.IN\")\n",
    "mdata.head()"
   ]
  },
  {
   "cell_type": "code",
   "execution_count": null,
   "metadata": {},
   "outputs": [],
   "source": [
    "mdata.metadata"
   ]
  },
  {
   "cell_type": "code",
   "execution_count": null,
   "metadata": {
    "scrolled": false
   },
   "outputs": [],
   "source": [
    "mdata['CO2I_EMIS'].head()"
   ]
  },
  {
   "cell_type": "code",
   "execution_count": null,
   "metadata": {
    "scrolled": false
   },
   "outputs": [],
   "source": [
    "mdata['R5ASIA', 'CO2I_EMIS'].head()"
   ]
  },
  {
   "cell_type": "code",
   "execution_count": null,
   "metadata": {
    "scrolled": false
   },
   "outputs": [],
   "source": [
    "mdata['CO2I_EMIS', 'R5ASIA'].head()"
   ]
  },
  {
   "cell_type": "code",
   "execution_count": null,
   "metadata": {},
   "outputs": [],
   "source": [
    "mdata[1956, 'CO2I_EMIS', 'R5ASIA'].head()"
   ]
  },
  {
   "cell_type": "code",
   "execution_count": null,
   "metadata": {},
   "outputs": [],
   "source": [
    "mdata[1998].head()"
   ]
  },
  {
   "cell_type": "code",
   "execution_count": 2,
   "metadata": {},
   "outputs": [
    {
     "data": {
      "text/html": [
       "<div>\n",
       "<style scoped>\n",
       "    .dataframe tbody tr th:only-of-type {\n",
       "        vertical-align: middle;\n",
       "    }\n",
       "\n",
       "    .dataframe tbody tr th {\n",
       "        vertical-align: top;\n",
       "    }\n",
       "\n",
       "    .dataframe thead th {\n",
       "        text-align: right;\n",
       "    }\n",
       "</style>\n",
       "<table border=\"1\" class=\"dataframe\">\n",
       "  <thead>\n",
       "    <tr style=\"text-align: right;\">\n",
       "      <th></th>\n",
       "      <th>Notes</th>\n",
       "      <th>THISFILE_DATTYPE</th>\n",
       "      <th>THISFILE_REGIONMODE</th>\n",
       "      <th>Regions</th>\n",
       "    </tr>\n",
       "  </thead>\n",
       "  <tbody>\n",
       "    <tr>\n",
       "      <th>0</th>\n",
       "      <td>DATTYPE not used by MAGICC.F90 or MAGICC7.F90 ...</td>\n",
       "      <td>REGIONDATA</td>\n",
       "      <td>SRES</td>\n",
       "      <td>[OECD, REF, ASIA, ALM]</td>\n",
       "    </tr>\n",
       "    <tr>\n",
       "      <th>1</th>\n",
       "      <td>DATTYPE not used by MAGICC.F90 or MAGICC7.F90 ...</td>\n",
       "      <td>REGIONDATA</td>\n",
       "      <td>RCP</td>\n",
       "      <td>[R5OECD, R5REF, R5ASIA, R5MAF, R5LAM]</td>\n",
       "    </tr>\n",
       "    <tr>\n",
       "      <th>2</th>\n",
       "      <td>DATTYPE not used by MAGICC.F90 or MAGICC7.F90 ...</td>\n",
       "      <td>REGIONDATA</td>\n",
       "      <td>RCPPLUSBUNKERS</td>\n",
       "      <td>[R6OECD90, R6REF, R6ASIA, R6MAF, R6LAM, BUNKERS]</td>\n",
       "    </tr>\n",
       "    <tr>\n",
       "      <th>3</th>\n",
       "      <td>DATTYPE not used by MAGICC.F90 or MAGICC7.F90 ...</td>\n",
       "      <td>REGIONDATA</td>\n",
       "      <td>RCPPLUSBUNKERS</td>\n",
       "      <td>[WORLD, R6OECD90, R6REF, R6ASIA, R6MAF, R6LAM,...</td>\n",
       "    </tr>\n",
       "    <tr>\n",
       "      <th>4</th>\n",
       "      <td>DATTYPE not used by MAGICC.F90 or MAGICC7.F90 ...</td>\n",
       "      <td>REGIONDATA</td>\n",
       "      <td>RCPPLUSSPLITBUNKERS</td>\n",
       "      <td>[R6OECD90, R6REF, R6ASIA, R6MAF, R6LAM, AVIATI...</td>\n",
       "    </tr>\n",
       "    <tr>\n",
       "      <th>5</th>\n",
       "      <td>SCEN7 files only. Order doesn't matter and any...</td>\n",
       "      <td>SCEN7</td>\n",
       "      <td>WORLD</td>\n",
       "      <td>[WORLD]</td>\n",
       "    </tr>\n",
       "    <tr>\n",
       "      <th>6</th>\n",
       "      <td>SCEN7 files only. Order doesn't matter and any...</td>\n",
       "      <td>SCEN7</td>\n",
       "      <td>WORLD</td>\n",
       "      <td>[GLOBAL]</td>\n",
       "    </tr>\n",
       "    <tr>\n",
       "      <th>7</th>\n",
       "      <td>SCEN7 files only. Order doesn't matter and any...</td>\n",
       "      <td>SCEN7</td>\n",
       "      <td>WORLD</td>\n",
       "      <td>[GL]</td>\n",
       "    </tr>\n",
       "    <tr>\n",
       "      <th>8</th>\n",
       "      <td>SCEN7 files. Order doesn't matter. WORLD value...</td>\n",
       "      <td>find 5 columns and do nothing.</td>\n",
       "      <td>SCEN7</td>\n",
       "      <td>[SRES, WORLD, OECD90, REF, ASIA, ALM]</td>\n",
       "    </tr>\n",
       "    <tr>\n",
       "      <th>9</th>\n",
       "      <td>SCEN7 files. Order doesn't matter. WORLD value...</td>\n",
       "      <td>find 6 columns and do nothing.</td>\n",
       "      <td>SCEN7</td>\n",
       "      <td>[RCP, WORLD, R5OECD, R5REF, R5ASIA, R5MAF, R5LAM]</td>\n",
       "    </tr>\n",
       "    <tr>\n",
       "      <th>10</th>\n",
       "      <td>SCEN7 files. Order doesn't matter. WORLD value...</td>\n",
       "      <td>find 8 columns and do nothing.</td>\n",
       "      <td>SCEN7</td>\n",
       "      <td>[RCPPLUSSPLITBUNKERS, WORLD, R6OECD90, R6REF, ...</td>\n",
       "    </tr>\n",
       "    <tr>\n",
       "      <th>11</th>\n",
       "      <td>Not SCEN7 or SCEN files. Order matters.</td>\n",
       "      <td>NOTUSED</td>\n",
       "      <td>FOURBOX</td>\n",
       "      <td>[GLOBAL]</td>\n",
       "    </tr>\n",
       "    <tr>\n",
       "      <th>12</th>\n",
       "      <td>Not SCEN7 or SCEN files. Order matters.</td>\n",
       "      <td>NOTUSED</td>\n",
       "      <td>FOURBOX</td>\n",
       "      <td>[NHLAND, SHLAND]</td>\n",
       "    </tr>\n",
       "    <tr>\n",
       "      <th>13</th>\n",
       "      <td>Not SCEN7 or SCEN files. Order matters.</td>\n",
       "      <td>NOTUSED</td>\n",
       "      <td>FOURBOX</td>\n",
       "      <td>[GLOBAL, NHLAND, SHLAND]</td>\n",
       "    </tr>\n",
       "    <tr>\n",
       "      <th>14</th>\n",
       "      <td>Not SCEN7 or SCEN files. Order matters.</td>\n",
       "      <td>NOTUSED</td>\n",
       "      <td>FOURBOX</td>\n",
       "      <td>[NHOCEAN, NHLAND, SHOCEAN, SHLAND]</td>\n",
       "    </tr>\n",
       "  </tbody>\n",
       "</table>\n",
       "</div>"
      ],
      "text/plain": [
       "                                                Notes  \\\n",
       "0   DATTYPE not used by MAGICC.F90 or MAGICC7.F90 ...   \n",
       "1   DATTYPE not used by MAGICC.F90 or MAGICC7.F90 ...   \n",
       "2   DATTYPE not used by MAGICC.F90 or MAGICC7.F90 ...   \n",
       "3   DATTYPE not used by MAGICC.F90 or MAGICC7.F90 ...   \n",
       "4   DATTYPE not used by MAGICC.F90 or MAGICC7.F90 ...   \n",
       "5   SCEN7 files only. Order doesn't matter and any...   \n",
       "6   SCEN7 files only. Order doesn't matter and any...   \n",
       "7   SCEN7 files only. Order doesn't matter and any...   \n",
       "8   SCEN7 files. Order doesn't matter. WORLD value...   \n",
       "9   SCEN7 files. Order doesn't matter. WORLD value...   \n",
       "10  SCEN7 files. Order doesn't matter. WORLD value...   \n",
       "11            Not SCEN7 or SCEN files. Order matters.   \n",
       "12            Not SCEN7 or SCEN files. Order matters.   \n",
       "13            Not SCEN7 or SCEN files. Order matters.   \n",
       "14            Not SCEN7 or SCEN files. Order matters.   \n",
       "\n",
       "                  THISFILE_DATTYPE  THISFILE_REGIONMODE  \\\n",
       "0                       REGIONDATA                 SRES   \n",
       "1                       REGIONDATA                  RCP   \n",
       "2                       REGIONDATA       RCPPLUSBUNKERS   \n",
       "3                       REGIONDATA       RCPPLUSBUNKERS   \n",
       "4                       REGIONDATA  RCPPLUSSPLITBUNKERS   \n",
       "5                            SCEN7                WORLD   \n",
       "6                            SCEN7                WORLD   \n",
       "7                            SCEN7                WORLD   \n",
       "8   find 5 columns and do nothing.                SCEN7   \n",
       "9   find 6 columns and do nothing.                SCEN7   \n",
       "10  find 8 columns and do nothing.                SCEN7   \n",
       "11                         NOTUSED              FOURBOX   \n",
       "12                         NOTUSED              FOURBOX   \n",
       "13                         NOTUSED              FOURBOX   \n",
       "14                         NOTUSED              FOURBOX   \n",
       "\n",
       "                                              Regions  \n",
       "0                              [OECD, REF, ASIA, ALM]  \n",
       "1               [R5OECD, R5REF, R5ASIA, R5MAF, R5LAM]  \n",
       "2    [R6OECD90, R6REF, R6ASIA, R6MAF, R6LAM, BUNKERS]  \n",
       "3   [WORLD, R6OECD90, R6REF, R6ASIA, R6MAF, R6LAM,...  \n",
       "4   [R6OECD90, R6REF, R6ASIA, R6MAF, R6LAM, AVIATI...  \n",
       "5                                             [WORLD]  \n",
       "6                                            [GLOBAL]  \n",
       "7                                                [GL]  \n",
       "8               [SRES, WORLD, OECD90, REF, ASIA, ALM]  \n",
       "9   [RCP, WORLD, R5OECD, R5REF, R5ASIA, R5MAF, R5LAM]  \n",
       "10  [RCPPLUSSPLITBUNKERS, WORLD, R6OECD90, R6REF, ...  \n",
       "11                                           [GLOBAL]  \n",
       "12                                   [NHLAND, SHLAND]  \n",
       "13                           [GLOBAL, NHLAND, SHLAND]  \n",
       "14                 [NHOCEAN, NHLAND, SHOCEAN, SHLAND]  "
      ]
     },
     "execution_count": 2,
     "metadata": {},
     "output_type": "execute_result"
    }
   ],
   "source": [
    "df = pd.read_csv(\n",
    "    join('..', 'pymagicc', 'definitions', 'magicc_dattype_regionmode_regions.csv')\n",
    ")\n",
    "\n",
    "region_cols = df.columns.to_series().apply(\n",
    "    lambda x: x.startswith('Region')\n",
    ")\n",
    "\n",
    "df_ = df.loc[:, ~region_cols].copy()\n",
    "\n",
    "df_['Regions'] = [\n",
    "    [r for r in raw if not pd.isnull(r)] \n",
    "    for raw in df.loc[:, region_cols].values.tolist() \n",
    "]\n",
    "df_"
   ]
  },
  {
   "cell_type": "code",
   "execution_count": null,
   "metadata": {},
   "outputs": [],
   "source": []
  }
 ],
 "metadata": {
  "kernelspec": {
   "display_name": "Python 3",
   "language": "python",
   "name": "python3"
  },
  "language_info": {
   "codemirror_mode": {
    "name": "ipython",
    "version": 3
   },
   "file_extension": ".py",
   "mimetype": "text/x-python",
   "name": "python",
   "nbconvert_exporter": "python",
   "pygments_lexer": "ipython3",
   "version": "3.6.5"
  }
 },
 "nbformat": 4,
 "nbformat_minor": 2
}
