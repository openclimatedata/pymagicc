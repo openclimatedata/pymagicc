{
 "cells": [
  {
   "cell_type": "markdown",
   "metadata": {},
   "source": [
    "###### Pymagicc Demo\n",
    "\n",
    "This small demo of Pymagicc (see https://github.com/openscm/pymagicc)\n",
    "is built using a [Jupyter Notebook](http://jupyter.org/) and [Appmode](https://github.com/oschuett/appmode). Thanks to the [Binder](https://mybinder.org/) project it can be found online at:\n",
    "\n",
    "https://mybinder.org/v2/gh/openscm/pymagicc/master?urlpath=apps%2Fnotebooks%2FDemo.ipynb\n",
    "\n",
    "It shows output from Pymagicc for the four [Representative Concentration Pathways (RCPs)](http://tntcat.iiasa.ac.at:8787/RcpDb/dsd?Action=htmlpage&page=welcome). One of the many model parameters, the climate sensitivity, can be adjusted. To see how the demo is made or change it, click on \"Edit App\" above."
   ]
  },
  {
   "cell_type": "code",
   "execution_count": 1,
   "metadata": {},
   "outputs": [
    {
     "data": {
      "application/javascript": [
       "IPython.OutputArea.prototype._should_scroll = function(lines) { return false; }"
      ],
      "text/plain": [
       "<IPython.core.display.Javascript object>"
      ]
     },
     "metadata": {},
     "output_type": "display_data"
    },
    {
     "name": "stderr",
     "output_type": "stream",
     "text": [
      "pyam - INFO: Running in a notebook, setting `pyam` logging level to `logging.INFO` and adding stderr handler\n"
     ]
    }
   ],
   "source": [
    "%matplotlib inline\n",
    "import matplotlib.pyplot as plt\n",
    "import pymagicc\n",
    "\n",
    "from ipywidgets import widgets\n",
    "from IPython.display import Javascript\n",
    "\n",
    "from functools import lru_cache\n",
    "\n",
    "plt.style.use(\"ggplot\")"
   ]
  },
  {
   "cell_type": "code",
   "execution_count": 2,
   "metadata": {},
   "outputs": [],
   "source": [
    "@lru_cache(maxsize=32)\n",
    "def run_pymagicc(scenario, core_climatesensitivity=3):\n",
    "    return pymagicc.run(\n",
    "        getattr(pymagicc, scenario.lower()),\n",
    "        core_climatesensitivity=core_climatesensitivity,\n",
    "    )"
   ]
  },
  {
   "cell_type": "code",
   "execution_count": 3,
   "metadata": {
    "scrolled": false
   },
   "outputs": [
    {
     "data": {
      "application/vnd.jupyter.widget-view+json": {
       "model_id": "5d6d9b35f0ca4351b7ef3f1843201f26",
       "version_major": 2,
       "version_minor": 0
      },
      "text/plain": [
       "VBox(children=(HBox(children=(Dropdown(options=('RCP26', 'RCP45', 'RCP60', 'RCP85'), value='RCP26'), HTML(valu…"
      ]
     },
     "metadata": {},
     "output_type": "display_data"
    },
    {
     "data": {
      "application/vnd.jupyter.widget-view+json": {
       "model_id": "82fcf0f4d7b843a6bf7f1db72e03455f",
       "version_major": 2,
       "version_minor": 0
      },
      "text/plain": [
       "Output()"
      ]
     },
     "metadata": {},
     "output_type": "display_data"
    }
   ],
   "source": [
    "# NBVAL_IGNORE_OUTPUT\n",
    "# Reference period\n",
    "start = 1850\n",
    "end = 1900\n",
    "\n",
    "widget_scenario = widgets.Dropdown(\n",
    "    title=\"Emissions Scenario\",\n",
    "    value=\"RCP26\",\n",
    "    options=[\"RCP26\", \"RCP45\", \"RCP60\", \"RCP85\"],\n",
    ")\n",
    "\n",
    "widget_status = widgets.HTML()\n",
    "\n",
    "gases = pymagicc.rcp26[\"variable\"].tolist()\n",
    "\n",
    "widget_gas_1 = widgets.Dropdown(\n",
    "    title=\"Emissions from\",\n",
    "    value=\"Emissions|CO2|MAGICC Fossil and Industrial\",\n",
    "    options=gases,\n",
    ")\n",
    "widget_gas_2 = widgets.Dropdown(\n",
    "    title=\"Emissions from\", value=\"Emissions|CO2|MAGICC AFOLU\", options=gases\n",
    ")\n",
    "widget_gas_3 = widgets.Dropdown(\n",
    "    title=\"Emissions from\", value=\"Emissions|CH4\", options=gases\n",
    ")\n",
    "widget_gas_4 = widgets.Dropdown(\n",
    "    title=\"Emissions from\", value=\"Emissions|N2O\", options=gases\n",
    ")\n",
    "\n",
    "style = {\"description_width\": \"initial\"}\n",
    "widget_core_climatesensitivity = widgets.FloatSlider(\n",
    "    value=3,\n",
    "    min=1.5,\n",
    "    max=4.5,\n",
    "    step=0.1,\n",
    "    continuous_update=False,\n",
    "    description=\"Climate Sensitivity\",\n",
    "    style=style,\n",
    ")\n",
    "\n",
    "scen = pymagicc.rcp26\n",
    "data = scen.filter(\n",
    "    region=\"World\",\n",
    "    variable=\"Emissions|CO2|MAGICC Fossil and Industrial\",\n",
    "    year=range(1, 2101),\n",
    ")\n",
    "\n",
    "widget_output = widgets.Output()\n",
    "\n",
    "ui = widgets.VBox(\n",
    "    [\n",
    "        widgets.HBox([widget_scenario, widget_status]),\n",
    "        widgets.HBox([widget_gas_1, widget_gas_2, widget_gas_3, widget_gas_4]),\n",
    "        widget_core_climatesensitivity,\n",
    "        widget_output,\n",
    "    ]\n",
    ")\n",
    "\n",
    "\n",
    "def update(scenario, gas_1, gas_2, gas_3, gas_4, core_climatesensitivity):\n",
    "    widget_status.value = \"<em>Processing</em> …\"\n",
    "    scen = getattr(pymagicc, scenario.lower())\n",
    "    data = scen.filter(region=\"World\", year=range(1, 2101),)\n",
    "\n",
    "    results = run_pymagicc(\n",
    "        scenario, core_climatesensitivity=core_climatesensitivity\n",
    "    )\n",
    "\n",
    "    fig, axes = plt.subplots(2, 4, figsize=(24, 15))\n",
    "    for i, gas in enumerate([gas_1, gas_2, gas_3, gas_4]):\n",
    "        gas_data = data.filter(variable=gas)\n",
    "        unit = gas_data[\"unit\"].iloc[0]\n",
    "        gas_data.line_plot(x=\"time\", ax=axes[0, i], legend=False)\n",
    "        axes[0, i].set_title(\"{} [{}]\".format(gas, unit))\n",
    "\n",
    "    temp = (\n",
    "        results.filter(variable=\"Surface Temperature\", region=\"World\",)\n",
    "        .relative_to_ref_period_mean(year=range(start, end + 1))\n",
    "        .timeseries()\n",
    "    )\n",
    "    temp.T.plot(ax=axes[1, 0], legend=False)\n",
    "    axes[1, 0].set_title(\"Surface Temperature [°C]\")\n",
    "\n",
    "    results.filter(\n",
    "        variable=\"Atmospheric Concentrations|CO2\", region=\"World\",\n",
    "    ).line_plot(x=\"time\", ax=axes[1, 1], legend=False)\n",
    "    axes[1, 1].set_title(\"CO$_2$ Concentration [ppm]\")\n",
    "\n",
    "    results.filter(\n",
    "        variable=\"Radiative Forcing|Greenhouse Gases\", region=\"World\",\n",
    "    ).line_plot(x=\"time\", ax=axes[1, 2], legend=False)\n",
    "    axes[1, 2].set_title(\"Radiative Forcing [W/m$^2$]\")\n",
    "\n",
    "    axes[1, 3].remove()\n",
    "    widget_status.value = \"\"\n",
    "\n",
    "\n",
    "out = widgets.interactive_output(\n",
    "    update,\n",
    "    {\n",
    "        \"scenario\": widget_scenario,\n",
    "        \"gas_1\": widget_gas_1,\n",
    "        \"gas_2\": widget_gas_2,\n",
    "        \"gas_3\": widget_gas_3,\n",
    "        \"gas_4\": widget_gas_4,\n",
    "        \"core_climatesensitivity\": widget_core_climatesensitivity,\n",
    "    },\n",
    ")\n",
    "\n",
    "display(ui, out)"
   ]
  },
  {
   "cell_type": "markdown",
   "metadata": {},
   "source": [
    "Surface temperature is relative to the pre-industrial 1850-1900 period."
   ]
  }
 ],
 "metadata": {
  "kernelspec": {
   "display_name": "Python 3",
   "language": "python",
   "name": "python3"
  },
  "language_info": {
   "codemirror_mode": {
    "name": "ipython",
    "version": 3
   },
   "file_extension": ".py",
   "mimetype": "text/x-python",
   "name": "python",
   "nbconvert_exporter": "python",
   "pygments_lexer": "ipython3",
   "version": "3.7.7"
  }
 },
 "nbformat": 4,
 "nbformat_minor": 2
}
