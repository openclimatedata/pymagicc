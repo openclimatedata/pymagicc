{
 "cells": [
  {
   "cell_type": "markdown",
   "metadata": {},
   "source": [
    "###### Pymagicc Demo\n",
    "\n",
    "This small demo of Pymagicc (see https://github.com/openscm/pymagicc)\n",
    "is built using a [Jupyter Notebook](http://jupyter.org/) and [Appmode](https://github.com/oschuett/appmode). Thanks to the [Binder](https://mybinder.org/) project it can be found online at:\n",
    "\n",
    "https://mybinder.org/v2/gh/openscm/pymagicc/master?urlpath=apps%2Fnotebooks%2FDemo.ipynb\n",
    "\n",
    "It shows output from Pymagicc for the four [Representative Concentration Pathways (RCPs)](http://tntcat.iiasa.ac.at:8787/RcpDb/dsd?Action=htmlpage&page=welcome). One of the many model parameters, the climate sensitivity, can be adjusted. To see how the demo is made or change it, click on \"Edit App\" above."
   ]
  },
  {
   "cell_type": "code",
   "execution_count": 1,
   "metadata": {},
   "outputs": [
    {
     "data": {
      "application/javascript": [
       "IPython.OutputArea.prototype._should_scroll = function(lines) { return false; }"
      ],
      "text/plain": [
       "<IPython.core.display.Javascript object>"
      ]
     },
     "metadata": {},
     "output_type": "display_data"
    }
   ],
   "source": [
    "%matplotlib inline\n",
    "import matplotlib.pyplot as plt\n",
    "import pymagicc\n",
    "\n",
    "from ipywidgets import widgets\n",
    "from IPython.display import Javascript\n",
    "\n",
    "from functools import lru_cache\n",
    "\n",
    "plt.style.use(\"ggplot\")"
   ]
  },
  {
   "cell_type": "code",
   "execution_count": 2,
   "metadata": {},
   "outputs": [],
   "source": [
    "@lru_cache(maxsize=32)\n",
    "def run_pymagicc(scenario, core_climatesensitivity=3):\n",
    "    return pymagicc.run(\n",
    "        pymagicc.scenarios[scenario], \n",
    "        core_climatesensitivity=core_climatesensitivity\n",
    "    )"
   ]
  },
  {
   "cell_type": "code",
   "execution_count": 12,
   "metadata": {
    "scrolled": false
   },
   "outputs": [
    {
     "data": {
      "application/vnd.jupyter.widget-view+json": {
       "model_id": "145776ab5556433aaee1221994c9a292",
       "version_major": 2,
       "version_minor": 0
      },
      "text/plain": [
       "VBox(children=(HBox(children=(Dropdown(options=('RCP26', 'RCP45', 'RCP60', 'RCP85'), value='RCP26'), HTML(valu…"
      ]
     },
     "metadata": {},
     "output_type": "display_data"
    },
    {
     "data": {
      "application/vnd.jupyter.widget-view+json": {
       "model_id": "32cfa44e3fe54c16b25cf769acc4d2f8",
       "version_major": 2,
       "version_minor": 0
      },
      "text/plain": [
       "Output()"
      ]
     },
     "metadata": {},
     "output_type": "display_data"
    }
   ],
   "source": [
    "# NBVAL_IGNORE_OUTPUT\n",
    "# Reference period\n",
    "start = 1850\n",
    "end = 1900\n",
    "\n",
    "widget_scenario = widgets.Dropdown(\n",
    "    title=\"Emissions Scenario\", \n",
    "    value=\"RCP26\",\n",
    "    options=[\"RCP26\", \"RCP45\", \"RCP60\", \"RCP85\"]\n",
    ")\n",
    "\n",
    "widget_status = widgets.HTML()\n",
    "\n",
    "gases = pymagicc.rcp26.variables().values\n",
    "\n",
    "widget_gas_1 = widgets.Dropdown(\n",
    "    title=\"Emissions from\", \n",
    "    value=\"Emissions|CO2|MAGICC Fossil and Industrial\",\n",
    "    options=gases\n",
    ")\n",
    "widget_gas_2 = widgets.Dropdown(\n",
    "    title=\"Emissions from\", \n",
    "    value=\"Emissions|CO2|MAGICC AFOLU\",\n",
    "    options=gases\n",
    ")\n",
    "widget_gas_3 = widgets.Dropdown(\n",
    "    title=\"Emissions from\", \n",
    "    value=\"Emissions|CH4\",\n",
    "    options=gases\n",
    ")\n",
    "widget_gas_4 = widgets.Dropdown(\n",
    "    title=\"Emissions from\", \n",
    "    value=\"Emissions|N2O\",\n",
    "    options=gases\n",
    ")\n",
    "\n",
    "style = {'description_width': 'initial'}\n",
    "widget_core_climatesensitivity = widgets.FloatSlider(\n",
    "    value=3, min=1.5, max=4.5, step=0.1, continuous_update=False,\n",
    "    description=\"Climate Sensitivity\",\n",
    "    style=style\n",
    ")\n",
    "\n",
    "scen = pymagicc.scenarios[\"RCP26\"]\n",
    "data = scen.filter(\n",
    "    region=\"World\",\n",
    "    variable=\"Emissions|CO2|MAGICC Fossil and Industrial\",\n",
    "    year=range(1, 2101)\n",
    ")\n",
    "\n",
    "widget_output = widgets.Output()\n",
    "\n",
    "ui = widgets.VBox([\n",
    "    widgets.HBox([widget_scenario,  widget_status]),\n",
    "    widgets.HBox([widget_gas_1, widget_gas_2, widget_gas_3, widget_gas_4]),\n",
    "    widget_core_climatesensitivity,\n",
    "    widget_output])\n",
    "\n",
    "def update(scenario, gas_1, gas_2, gas_3, gas_4, core_climatesensitivity):\n",
    "    widget_status.value = \"<em>Processing</em> …\"\n",
    "    scen = pymagicc.scenarios[scenario]\n",
    "    data = scen.filter(\n",
    "        region=\"World\",\n",
    "        year=range(1, 2101),\n",
    "    )\n",
    "\n",
    "    results = run_pymagicc(\n",
    "        scenario, \n",
    "        core_climatesensitivity=core_climatesensitivity\n",
    "    )\n",
    "    \n",
    "    fig, axes = plt.subplots(2, 4, figsize=(24, 15))\n",
    "    for i, gas in enumerate([gas_1, gas_2, gas_3, gas_4]):\n",
    "        gas_data = data.filter(variable=gas)\n",
    "        unit = gas_data[\"unit\"].iloc[0]\n",
    "        gas_data.line_plot(x=\"time\", ax=axes[0, i], legend=False)\n",
    "        axes[0, i].set_title(\"{} [{}]\".format(gas, unit))\n",
    "    \n",
    "    temp = results.filter(\n",
    "        variable=\"Surface Temperature\",\n",
    "        region=\"World\",\n",
    "    )\n",
    "    temp.data.loc[:, \"value\"] -= temp.filter(year=range(start, end+1))[\"value\"].mean()\n",
    "    temp.line_plot(ax=axes[1, 0], x=\"time\", legend=False)\n",
    "    axes[1, 0].set_title(\"Surface Temperature [°C]\")\n",
    "    \n",
    "    results.filter(\n",
    "        variable=\"Atmospheric Concentrations|CO2\",\n",
    "        region=\"World\",\n",
    "    ).line_plot(x=\"time\", ax=axes[1, 1], legend=False)\n",
    "    axes[1, 1].set_title(\"CO$_2$ Concentration [ppm]\")\n",
    "    \n",
    "    results.filter(\n",
    "        variable=\"Radiative Forcing|Greenhouse Gases\",\n",
    "        region=\"World\",\n",
    "    ).line_plot(x=\"time\", ax=axes[1, 2], legend=False)\n",
    "    axes[1, 2].set_title(\"Radiative Forcing [W/m$^2$]\")\n",
    "    \n",
    "    axes[1, 3].remove()\n",
    "    widget_status.value = \"\"\n",
    "\n",
    "out = widgets.interactive_output(\n",
    "    update, \n",
    "    {\n",
    "        \"scenario\": widget_scenario, \n",
    "        \"gas_1\": widget_gas_1,\n",
    "        \"gas_2\": widget_gas_2,\n",
    "        \"gas_3\": widget_gas_3,\n",
    "        \"gas_4\": widget_gas_4,\n",
    "        \"core_climatesensitivity\": widget_core_climatesensitivity\n",
    "    }\n",
    ")\n",
    "    \n",
    "display(ui, out)"
   ]
  },
  {
   "cell_type": "markdown",
   "metadata": {},
   "source": [
    "Surface temperature is relative to the pre-industrial 1850-1900 period."
   ]
  }
 ],
 "metadata": {
  "kernelspec": {
   "display_name": "Python 3",
   "language": "python",
   "name": "python3"
  },
  "language_info": {
   "codemirror_mode": {
    "name": "ipython",
    "version": 3
   },
   "file_extension": ".py",
   "mimetype": "text/x-python",
   "name": "python",
   "nbconvert_exporter": "python",
   "pygments_lexer": "ipython3",
   "version": "3.7.0"
  }
 },
 "nbformat": 4,
 "nbformat_minor": 2
}
