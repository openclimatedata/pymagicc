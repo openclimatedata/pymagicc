{
 "cells": [
  {
   "cell_type": "markdown",
   "metadata": {},
   "source": [
    "# MAGICC7\n",
    "\n",
    "Pymagicc is also MAGICC7 compatible. \n",
    "\n",
    "As yet, the binary is not yet publicly available to it's a bit fiddlier to get setup. Here we give a minimal working example of how to use MAGICC7 with Pymagicc."
   ]
  },
  {
   "cell_type": "code",
   "execution_count": 1,
   "metadata": {},
   "outputs": [],
   "source": [
    "# NBVAL_IGNORE_OUTPUT\n",
    "%matplotlib inline\n",
    "from matplotlib import pyplot as plt\n",
    "plt.style.use('ggplot')\n",
    "plt.rcParams['figure.figsize'] = 16, 9\n",
    "\n",
    "import pandas as pd\n",
    "import pymagicc\n",
    "from pymagicc.api import MAGICC6, MAGICC7\n",
    "\n",
    "from pymagicc import rcp26, rcp45, rcp60, rcp85, scenarios"
   ]
  },
  {
   "cell_type": "code",
   "execution_count": 2,
   "metadata": {},
   "outputs": [
    {
     "name": "stdout",
     "output_type": "stream",
     "text": [
      "env: MAGICC_EXECUTABLE_7=../../magicc/run/magicc\n"
     ]
    }
   ],
   "source": [
    "# set your environment to find your MAGICC binary\n",
    "%env MAGICC_EXECUTABLE_7=../../magicc/run/magicc"
   ]
  },
  {
   "cell_type": "markdown",
   "metadata": {},
   "source": [
    "## The slow, easy way\n",
    "\n",
    "Use the `pymagicc.run` API. This is super slow as it makes a new copy of the entire `magicc/run` directory for each run."
   ]
  },
  {
   "cell_type": "code",
   "execution_count": 3,
   "metadata": {},
   "outputs": [
    {
     "ename": "CalledProcessError",
     "evalue": "Command '['/var/folders/51/39rg93fj6px6dbbfv24050vr0000gn/T/pymagicc-_snoyc3y/run/magicc']' died with <Signals.SIGSEGV: 11>.",
     "output_type": "error",
     "traceback": [
      "\u001b[0;31m--------------------------------------------------------------------------\u001b[0m",
      "\u001b[0;31mCalledProcessError\u001b[0m                       Traceback (most recent call last)",
      "\u001b[0;32m<ipython-input-3-9b75534bc9ed>\u001b[0m in \u001b[0;36m<module>\u001b[0;34m()\u001b[0m\n\u001b[1;32m      1\u001b[0m \u001b[0;32mfor\u001b[0m \u001b[0mname\u001b[0m\u001b[0;34m,\u001b[0m \u001b[0mscen\u001b[0m \u001b[0;32min\u001b[0m \u001b[0mscenarios\u001b[0m\u001b[0;34m.\u001b[0m\u001b[0mitems\u001b[0m\u001b[0;34m(\u001b[0m\u001b[0;34m)\u001b[0m\u001b[0;34m:\u001b[0m\u001b[0;34m\u001b[0m\u001b[0m\n\u001b[1;32m      2\u001b[0m     \u001b[0;31m# common gotcha, not getting right output\u001b[0m\u001b[0;34m\u001b[0m\u001b[0;34m\u001b[0m\u001b[0m\n\u001b[0;32m----> 3\u001b[0;31m     \u001b[0mresults\u001b[0m \u001b[0;34m=\u001b[0m \u001b[0mpymagicc\u001b[0m\u001b[0;34m.\u001b[0m\u001b[0mrun\u001b[0m\u001b[0;34m(\u001b[0m\u001b[0mscen\u001b[0m\u001b[0;34m,\u001b[0m \u001b[0mmagicc_version\u001b[0m\u001b[0;34m=\u001b[0m\u001b[0;36m7\u001b[0m\u001b[0;34m,\u001b[0m \u001b[0mout_temperature\u001b[0m\u001b[0;34m=\u001b[0m\u001b[0;36m1\u001b[0m\u001b[0;34m)\u001b[0m\u001b[0;34m\u001b[0m\u001b[0m\n\u001b[0m\u001b[1;32m      4\u001b[0m     \u001b[0mresults_df\u001b[0m \u001b[0;34m=\u001b[0m \u001b[0mresults\u001b[0m\u001b[0;34m.\u001b[0m\u001b[0mdf\u001b[0m\u001b[0;34m\u001b[0m\u001b[0m\n\u001b[1;32m      5\u001b[0m     \u001b[0mresults_df\u001b[0m\u001b[0;34m.\u001b[0m\u001b[0mset_index\u001b[0m\u001b[0;34m(\u001b[0m\u001b[0;34m\"time\"\u001b[0m\u001b[0;34m,\u001b[0m \u001b[0minplace\u001b[0m\u001b[0;34m=\u001b[0m\u001b[0;32mTrue\u001b[0m\u001b[0;34m)\u001b[0m\u001b[0;34m\u001b[0m\u001b[0m\n",
      "\u001b[0;32m~/Documents/AGCEC/MCastle/pymagicc/pymagicc/__init__.py\u001b[0m in \u001b[0;36mrun\u001b[0;34m(scenario, only, out_parameters, magicc_version, **kwargs)\u001b[0m\n\u001b[1;32m    113\u001b[0m     \u001b[0;32mwith\u001b[0m \u001b[0mmagicc_cls\u001b[0m\u001b[0;34m(\u001b[0m\u001b[0;34m)\u001b[0m \u001b[0;32mas\u001b[0m \u001b[0mmagicc\u001b[0m\u001b[0;34m:\u001b[0m\u001b[0;34m\u001b[0m\u001b[0m\n\u001b[1;32m    114\u001b[0m         \u001b[0mkwargs\u001b[0m\u001b[0;34m[\u001b[0m\u001b[0;34m\"out_parameters\"\u001b[0m\u001b[0;34m]\u001b[0m \u001b[0;34m=\u001b[0m \u001b[0;36m1\u001b[0m \u001b[0;32mif\u001b[0m \u001b[0mout_parameters\u001b[0m \u001b[0;32melse\u001b[0m \u001b[0;36m0\u001b[0m\u001b[0;34m\u001b[0m\u001b[0m\n\u001b[0;32m--> 115\u001b[0;31m         \u001b[0mresults\u001b[0m \u001b[0;34m=\u001b[0m \u001b[0mmagicc\u001b[0m\u001b[0;34m.\u001b[0m\u001b[0mrun\u001b[0m\u001b[0;34m(\u001b[0m\u001b[0mscenario\u001b[0m\u001b[0;34m=\u001b[0m\u001b[0mscenario\u001b[0m\u001b[0;34m,\u001b[0m \u001b[0;34m**\u001b[0m\u001b[0mkwargs\u001b[0m\u001b[0;34m)\u001b[0m\u001b[0;34m\u001b[0m\u001b[0m\n\u001b[0m\u001b[1;32m    116\u001b[0m \u001b[0;34m\u001b[0m\u001b[0m\n\u001b[1;32m    117\u001b[0m     \u001b[0;32mreturn\u001b[0m \u001b[0mresults\u001b[0m\u001b[0;34m\u001b[0m\u001b[0m\n",
      "\u001b[0;32m~/Documents/AGCEC/MCastle/pymagicc/pymagicc/api.py\u001b[0m in \u001b[0;36mrun\u001b[0;34m(self, scenario, only, **kwargs)\u001b[0m\n\u001b[1;32m    223\u001b[0m \u001b[0;34m\u001b[0m\u001b[0m\n\u001b[1;32m    224\u001b[0m         \u001b[0;31m# On Windows shell=True is required.\u001b[0m\u001b[0;34m\u001b[0m\u001b[0;34m\u001b[0m\u001b[0m\n\u001b[0;32m--> 225\u001b[0;31m         \u001b[0msubprocess\u001b[0m\u001b[0;34m.\u001b[0m\u001b[0mcheck_call\u001b[0m\u001b[0;34m(\u001b[0m\u001b[0mcommand\u001b[0m\u001b[0;34m,\u001b[0m \u001b[0mcwd\u001b[0m\u001b[0;34m=\u001b[0m\u001b[0mself\u001b[0m\u001b[0;34m.\u001b[0m\u001b[0mrun_dir\u001b[0m\u001b[0;34m,\u001b[0m \u001b[0mshell\u001b[0m\u001b[0;34m=\u001b[0m\u001b[0mIS_WINDOWS\u001b[0m\u001b[0;34m)\u001b[0m\u001b[0;34m\u001b[0m\u001b[0m\n\u001b[0m\u001b[1;32m    226\u001b[0m \u001b[0;34m\u001b[0m\u001b[0m\n\u001b[1;32m    227\u001b[0m         \u001b[0;31m# widen this constraint\u001b[0m\u001b[0;34m\u001b[0m\u001b[0;34m\u001b[0m\u001b[0m\n",
      "\u001b[0;32m/usr/local/Cellar/python/3.6.5/Frameworks/Python.framework/Versions/3.6/lib/python3.6/subprocess.py\u001b[0m in \u001b[0;36mcheck_call\u001b[0;34m(*popenargs, **kwargs)\u001b[0m\n\u001b[1;32m    289\u001b[0m         \u001b[0;32mif\u001b[0m \u001b[0mcmd\u001b[0m \u001b[0;32mis\u001b[0m \u001b[0;32mNone\u001b[0m\u001b[0;34m:\u001b[0m\u001b[0;34m\u001b[0m\u001b[0m\n\u001b[1;32m    290\u001b[0m             \u001b[0mcmd\u001b[0m \u001b[0;34m=\u001b[0m \u001b[0mpopenargs\u001b[0m\u001b[0;34m[\u001b[0m\u001b[0;36m0\u001b[0m\u001b[0;34m]\u001b[0m\u001b[0;34m\u001b[0m\u001b[0m\n\u001b[0;32m--> 291\u001b[0;31m         \u001b[0;32mraise\u001b[0m \u001b[0mCalledProcessError\u001b[0m\u001b[0;34m(\u001b[0m\u001b[0mretcode\u001b[0m\u001b[0;34m,\u001b[0m \u001b[0mcmd\u001b[0m\u001b[0;34m)\u001b[0m\u001b[0;34m\u001b[0m\u001b[0m\n\u001b[0m\u001b[1;32m    292\u001b[0m     \u001b[0;32mreturn\u001b[0m \u001b[0;36m0\u001b[0m\u001b[0;34m\u001b[0m\u001b[0m\n\u001b[1;32m    293\u001b[0m \u001b[0;34m\u001b[0m\u001b[0m\n",
      "\u001b[0;31mCalledProcessError\u001b[0m: Command '['/var/folders/51/39rg93fj6px6dbbfv24050vr0000gn/T/pymagicc-_snoyc3y/run/magicc']' died with <Signals.SIGSEGV: 11>."
     ]
    },
    {
     "data": {
      "image/png": "[encoded data removed]",
      "text/plain": [
       "<Figure size 432x288 with 1 Axes>"
      ]
     },
     "metadata": {
      "needs_background": "light"
     },
     "output_type": "display_data"
    }
   ],
   "source": [
    "for name, scen in scenarios.items():\n",
    "    # common gotcha, not getting right output\n",
    "    results = pymagicc.run(scen, magicc_version=7, out_temperature=1)\n",
    "    results_df = results.df\n",
    "    results_df.set_index(\"time\", inplace=True)    \n",
    "\n",
    "    global_temp_time_rows = (\n",
    "        (results_df.variable == \"Surface Temperature\")\n",
    "        & (results_df.region == \"World\")\n",
    "    )\n",
    "    \n",
    "    temp = (\n",
    "        results_df.value[global_temp_time_rows].loc[1850:]\n",
    "        - results_df.value[global_temp_time_rows].loc[1850:1900].mean()\n",
    "    )\n",
    "    temp.plot(label=name)\n",
    "    \n",
    "plt.legend()\n",
    "plt.title(\"Global Mean Temperature Projection\")\n",
    "plt.ylabel(\"°C over pre-industrial (1850-1900 mean)\");"
   ]
  },
  {
   "cell_type": "markdown",
   "metadata": {},
   "source": [
    "## The faster, mildly more difficult way\n",
    "\n",
    "Use the context manager for the MAGICC version we want. This still creates a copy of the entire run folder, but only once."
   ]
  },
  {
   "cell_type": "code",
   "execution_count": null,
   "metadata": {},
   "outputs": [],
   "source": [
    "with MAGICC7() as magicc:\n",
    "    for name, scen in scenarios.items():\n",
    "        # note that we obviously don't need magicc_version as an argument \n",
    "        # here\n",
    "        results = magicc.run(scen, out_temperature=1)\n",
    "        results_df = results.df\n",
    "        results_df.set_index(\"time\", inplace=True)    \n",
    "\n",
    "        global_temp_time_rows = (\n",
    "            (results_df.variable == \"Surface Temperature\")\n",
    "            & (results_df.region == \"World\")\n",
    "        )\n",
    "\n",
    "        temp = (\n",
    "            results_df.value[global_temp_time_rows].loc[1850:]\n",
    "            - results_df.value[global_temp_time_rows].loc[1850:1900].mean()\n",
    "        )\n",
    "        temp.plot(label=name)\n",
    "\n",
    "plt.legend()\n",
    "plt.title(\"Global Mean Temperature Projection\")\n",
    "plt.ylabel(\"°C over pre-industrial (1850-1900 mean)\");"
   ]
  },
  {
   "cell_type": "markdown",
   "metadata": {},
   "source": [
    "## The even faster, more dangerous and difficult to debug way\n",
    "\n",
    "Use the context manager for the MAGICC version we want and specify the root directory. This doesn't create a copy of the entire run folder, but will modify files in place and blow up if any of your settings are not correct.\n",
    "\n",
    "Common gotchas:\n",
    "\n",
    "- not clearing `out` directory before running so things are super slow\n",
    "- pre-existing `MAGTUNE_PYMAGICC.CFG` file with config you don't want to use, or which you want to overwrite (we currently don't do any overwriting with Pymagicc)"
   ]
  },
  {
   "cell_type": "code",
   "execution_count": null,
   "metadata": {},
   "outputs": [],
   "source": [
    "with MAGICC7(root_dir=\"../../magicc\") as magicc:\n",
    "    # binary readers aren't yet ready and we can't do this through\n",
    "    # the run method just yet\n",
    "    magicc.set_output_variables(\n",
    "        write_ascii=True, write_binary=False, \n",
    "        temperature=True, emissions=True,\n",
    "        parameters=True\n",
    "    )  \n",
    "    for name, scen in scenarios.items():\n",
    "        results = magicc.run(scen)\n",
    "        results.df = results.df.copy()\n",
    "        results.df.set_index(\"time\", inplace=True)    \n",
    "\n",
    "        global_temp_time_rows = (\n",
    "            (results.df.variable == \"Surface Temperature\")\n",
    "            & (results.df.region == \"World\")\n",
    "        )\n",
    "\n",
    "        temp = (\n",
    "            results.df.value[global_temp_time_rows].loc[1850:]\n",
    "            - results.df.value[global_temp_time_rows].loc[1850:1900].mean()\n",
    "        )\n",
    "        temp.plot(label=name)\n",
    "\n",
    "plt.legend()\n",
    "plt.title(\"Global Mean Temperature Projection\")\n",
    "plt.ylabel(\"°C over pre-industrial (1850-1900 mean)\");"
   ]
  },
  {
   "cell_type": "markdown",
   "metadata": {},
   "source": [
    "## Comparing MAGICC6 and MAGICC7\n",
    "\n",
    "Finally, we show how to easily compare MAGICC6 and MAGICC7."
   ]
  },
  {
   "cell_type": "code",
   "execution_count": null,
   "metadata": {},
   "outputs": [],
   "source": [
    "magicc7_results = []\n",
    "with MAGICC7(root_dir=\"../../magicc\") as magicc:\n",
    "    # binary readers aren't yet ready and we can't do this through\n",
    "    # the run method just yet\n",
    "    magicc.set_output_variables(\n",
    "        write_ascii=True, write_binary=False, \n",
    "        temperature=True, emissions=True,\n",
    "        parameters=True\n",
    "    )  \n",
    "    for name, scen in scenarios.items():\n",
    "        results = magicc.run(scen)\n",
    "        results.df[\"Climate Model\"] = \"MAGICC7\"\n",
    "        results.df[\"Scenario\"] = name\n",
    "        magicc7_results.append(results.df)\n",
    "        \n",
    "magicc7_results = pd.concat(magicc7_results)"
   ]
  },
  {
   "cell_type": "code",
   "execution_count": null,
   "metadata": {},
   "outputs": [],
   "source": [
    "magicc6_results = []\n",
    "with MAGICC6() as magicc:\n",
    "    # binary readers aren't yet ready and we can't do this through\n",
    "    # the run method just yet\n",
    "    magicc.set_output_variables(\n",
    "        write_ascii=True, write_binary=False, \n",
    "        temperature=True, emissions=True,\n",
    "        parameters=True\n",
    "    )  \n",
    "    for name, scen in scenarios.items():\n",
    "        results = magicc.run(scen)\n",
    "        results.df[\"Climate Model\"] = \"MAGICC6\"\n",
    "        results.df[\"Scenario\"] = name\n",
    "        magicc6_results.append(results.df)\n",
    "\n",
    "magicc6_results = pd.concat(magicc6_results)"
   ]
  },
  {
   "cell_type": "code",
   "execution_count": null,
   "metadata": {},
   "outputs": [],
   "source": [
    "results = pd.concat([magicc6_results, magicc7_results])"
   ]
  },
  {
   "cell_type": "code",
   "execution_count": null,
   "metadata": {},
   "outputs": [],
   "source": [
    "results.head()"
   ]
  },
  {
   "cell_type": "code",
   "execution_count": null,
   "metadata": {},
   "outputs": [],
   "source": [
    "magicc7_results.head()"
   ]
  },
  {
   "cell_type": "code",
   "execution_count": null,
   "metadata": {},
   "outputs": [],
   "source": []
  }
 ],
 "metadata": {
  "kernelspec": {
   "display_name": "Python 3",
   "language": "python",
   "name": "python3"
  },
  "language_info": {
   "codemirror_mode": {
    "name": "ipython",
    "version": 3
   },
   "file_extension": ".py",
   "mimetype": "text/x-python",
   "name": "python",
   "nbconvert_exporter": "python",
   "pygments_lexer": "ipython3",
   "version": "3.6.5"
  }
 },
 "nbformat": 4,
 "nbformat_minor": 2
}
