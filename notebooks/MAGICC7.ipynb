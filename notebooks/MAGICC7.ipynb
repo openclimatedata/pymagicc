{
 "cells": [
  {
   "cell_type": "markdown",
   "metadata": {},
   "source": [
    "# MAGICC7\n",
    "\n",
    "Pymagicc is also MAGICC7 compatible. \n",
    "\n",
    "As yet, the binary is not yet publicly available to it's a bit fiddlier to get setup. Here we give a minimal working example of how to use MAGICC7 with Pymagicc."
   ]
  },
  {
   "cell_type": "markdown",
   "metadata": {},
   "source": [
    "Temporary notes:\n",
    "\n",
    "- fix handling of climate_model, model and scenario names for rcps\n",
    "- fix handling of climate_model, model and scenario names when input has those columns already (and \"unspecified\" to check of whether to overwrite or not)\n",
    "- make append be able to handle MAGICCData too"
   ]
  },
  {
   "cell_type": "code",
   "execution_count": 10,
   "metadata": {},
   "outputs": [],
   "source": [
    "# NBVAL_IGNORE_OUTPUT\n",
    "\n",
    "import pandas as pd\n",
    "import pymagicc\n",
    "from pymagicc import MAGICC6, MAGICC7\n",
    "from pymagicc.io import MAGICCData\n",
    "\n",
    "from pymagicc import rcp26, rcp45, rcp60, rcp85, scenarios"
   ]
  },
  {
   "cell_type": "code",
   "execution_count": 11,
   "metadata": {},
   "outputs": [],
   "source": [
    "# NBVAL_IGNORE_OUTPUT\n",
    "%matplotlib inline\n",
    "from matplotlib import pyplot as plt\n",
    "plt.style.use('ggplot')\n",
    "plt.rcParams['figure.figsize'] = 16, 9"
   ]
  },
  {
   "cell_type": "code",
   "execution_count": 12,
   "metadata": {},
   "outputs": [
    {
     "name": "stdout",
     "output_type": "stream",
     "text": [
      "env: MAGICC_EXECUTABLE_7=../../magicc/run/magicc\n"
     ]
    }
   ],
   "source": [
    "# set your environment to find your MAGICC binary\n",
    "%env MAGICC_EXECUTABLE_7=../../magicc/run/magicc"
   ]
  },
  {
   "cell_type": "markdown",
   "metadata": {},
   "source": [
    "## The slow, easy way\n",
    "\n",
    "Use the `pymagicc.run` API. This is super slow as it makes a new copy of the entire `magicc/run` directory for each run.\n",
    "\n",
    "A few common issues when using your own setup are:\n",
    "    - output flag settings may mean that you don't get the output you expect\n",
    "    - super slow running as lots of output are being read back in (turn `OUT_XX` flags off to speed things up)\n",
    "    - super slow running as your `out` directory is not empty before you run\n",
    "    - your config file has more than one emissions scenario and/or config flag set (Pymagicc deliberately throws an error here to avoid difficult debugging of overlapping emissions and config inputs)\n",
    "    \n",
    "`MAGCFG_USER.CFG` should have lines like\n",
    "\n",
    "```FORTRAN90\n",
    "  FILE_EMISSCEN =  \"NONE\",\n",
    "  FILE_EMISSCEN_2 =  \"\",\n",
    "  FILE_EMISSCEN_3 =  \"\",\n",
    "  FILE_EMISSCEN_4 =  \"\",\n",
    "  FILE_EMISSCEN_5 =  \"\",\n",
    "  FILE_EMISSCEN_6 =  \"\",\n",
    "  FILE_EMISSCEN_7 =  \"\",\n",
    "  FILE_EMISSCEN_8 =  \"\",\n",
    "  FILE_TUNINGMODEL_1 =  \"PYMAGICC\",\n",
    "  FILE_TUNINGMODEL_2 =  \"USER\",\n",
    "  FILE_TUNINGMODEL_3 =  \"USER\",\n",
    "  FILE_TUNINGMODEL_4 =  \"USER\",\n",
    "  FILE_TUNINGMODEL_5 =  \"USER\",\n",
    "  FILE_TUNINGMODEL_6 =  \"USER\",\n",
    "  FILE_TUNINGMODEL_7 =  \"USER\",\n",
    "  FILE_TUNINGMODEL_8 =  \"USER\",\n",
    "  FILE_TUNINGMODEL_9 =  \"USER\",\n",
    "  FILE_TUNINGMODEL_10 =  \"USER\",\n",
    "```"
   ]
  },
  {
   "cell_type": "code",
   "execution_count": 14,
   "metadata": {},
   "outputs": [
    {
     "data": {
      "text/html": [
       "<div>\n",
       "<style scoped>\n",
       "    .dataframe tbody tr th:only-of-type {\n",
       "        vertical-align: middle;\n",
       "    }\n",
       "\n",
       "    .dataframe tbody tr th {\n",
       "        vertical-align: top;\n",
       "    }\n",
       "\n",
       "    .dataframe thead th {\n",
       "        text-align: right;\n",
       "    }\n",
       "</style>\n",
       "<table border=\"1\" class=\"dataframe\">\n",
       "  <thead>\n",
       "    <tr style=\"text-align: right;\">\n",
       "      <th></th>\n",
       "      <th>variable</th>\n",
       "      <th>todo</th>\n",
       "      <th>unit</th>\n",
       "      <th>region</th>\n",
       "      <th>climate_model</th>\n",
       "      <th>model</th>\n",
       "      <th>scenario</th>\n",
       "      <th>time</th>\n",
       "      <th>value</th>\n",
       "    </tr>\n",
       "  </thead>\n",
       "  <tbody>\n",
       "    <tr>\n",
       "      <th>392</th>\n",
       "      <td>Emissions|BC</td>\n",
       "      <td>SET</td>\n",
       "      <td>Mt BC / yr</td>\n",
       "      <td>World</td>\n",
       "      <td>unspecified</td>\n",
       "      <td>unspecified</td>\n",
       "      <td>unspecified</td>\n",
       "      <td>2000-07-12 00:00:00</td>\n",
       "      <td>7.8048</td>\n",
       "    </tr>\n",
       "    <tr>\n",
       "      <th>392</th>\n",
       "      <td>Emissions|BC</td>\n",
       "      <td>SET</td>\n",
       "      <td>Mt BC / yr</td>\n",
       "      <td>World|Bunkers</td>\n",
       "      <td>unspecified</td>\n",
       "      <td>unspecified</td>\n",
       "      <td>unspecified</td>\n",
       "      <td>2000-07-12 00:00:00</td>\n",
       "      <td>0.1361</td>\n",
       "    </tr>\n",
       "    <tr>\n",
       "      <th>392</th>\n",
       "      <td>Emissions|BC</td>\n",
       "      <td>SET</td>\n",
       "      <td>Mt BC / yr</td>\n",
       "      <td>World|R5ASIA</td>\n",
       "      <td>unspecified</td>\n",
       "      <td>unspecified</td>\n",
       "      <td>unspecified</td>\n",
       "      <td>2000-07-12 00:00:00</td>\n",
       "      <td>3.0468</td>\n",
       "    </tr>\n",
       "    <tr>\n",
       "      <th>392</th>\n",
       "      <td>Emissions|BC</td>\n",
       "      <td>SET</td>\n",
       "      <td>Mt BC / yr</td>\n",
       "      <td>World|R5LAM</td>\n",
       "      <td>unspecified</td>\n",
       "      <td>unspecified</td>\n",
       "      <td>unspecified</td>\n",
       "      <td>2000-07-12 00:00:00</td>\n",
       "      <td>0.9311</td>\n",
       "    </tr>\n",
       "    <tr>\n",
       "      <th>392</th>\n",
       "      <td>Emissions|BC</td>\n",
       "      <td>SET</td>\n",
       "      <td>Mt BC / yr</td>\n",
       "      <td>World|R5MAF</td>\n",
       "      <td>unspecified</td>\n",
       "      <td>unspecified</td>\n",
       "      <td>unspecified</td>\n",
       "      <td>2000-07-12 00:00:00</td>\n",
       "      <td>1.8766</td>\n",
       "    </tr>\n",
       "  </tbody>\n",
       "</table>\n",
       "</div>"
      ],
      "text/plain": [
       "         variable todo        unit         region climate_model        model  \\\n",
       "392  Emissions|BC  SET  Mt BC / yr          World   unspecified  unspecified   \n",
       "392  Emissions|BC  SET  Mt BC / yr  World|Bunkers   unspecified  unspecified   \n",
       "392  Emissions|BC  SET  Mt BC / yr   World|R5ASIA   unspecified  unspecified   \n",
       "392  Emissions|BC  SET  Mt BC / yr    World|R5LAM   unspecified  unspecified   \n",
       "392  Emissions|BC  SET  Mt BC / yr    World|R5MAF   unspecified  unspecified   \n",
       "\n",
       "        scenario                 time   value  \n",
       "392  unspecified  2000-07-12 00:00:00  7.8048  \n",
       "392  unspecified  2000-07-12 00:00:00  0.1361  \n",
       "392  unspecified  2000-07-12 00:00:00  3.0468  \n",
       "392  unspecified  2000-07-12 00:00:00  0.9311  \n",
       "392  unspecified  2000-07-12 00:00:00  1.8766  "
      ]
     },
     "execution_count": 14,
     "metadata": {},
     "output_type": "execute_result"
    }
   ],
   "source": [
    "scen.head()"
   ]
  },
  {
   "cell_type": "code",
   "execution_count": 15,
   "metadata": {},
   "outputs": [
    {
     "data": {
      "text/plain": [
       "'RCP45'"
      ]
     },
     "execution_count": 15,
     "metadata": {},
     "output_type": "execute_result"
    }
   ],
   "source": [
    "name"
   ]
  },
  {
   "cell_type": "code",
   "execution_count": 16,
   "metadata": {},
   "outputs": [
    {
     "name": "stdout",
     "output_type": "stream",
     "text": [
      "running RCP26\n",
      "running RCP45\n"
     ]
    }
   ],
   "source": [
    "try:\n",
    "    del results\n",
    "except NameError:\n",
    "    pass\n",
    "for name, scen in scenarios.items():\n",
    "    print(\"running {}\".format(name))\n",
    "    scen = MAGICCData(scen.data, scenario=name)\n",
    "    scen_results = pymagicc.run(scen, magicc_version=7)\n",
    "    try:\n",
    "        results.append(scen_results)\n",
    "        break\n",
    "    except NameError:\n",
    "        results = scen_results\n",
    "#     surface_temp = results.filter(\n",
    "#         variable=\"Surface Temperature\",\n",
    "#         region=\"World\"\n",
    "#     ).line_plot(x=\"time\")\n",
    "#     results_df.set_index(\"time\", inplace=True)    \n",
    "\n",
    "#     global_temp_time_rows = (\n",
    "#         (results_df.variable == \"Surface Temperature\")\n",
    "#         & (results_df.region == \"World\")\n",
    "#     )\n",
    "    \n",
    "#     temp = (\n",
    "#         results_df.value[global_temp_time_rows].loc[1850:]\n",
    "#         - results_df.value[global_temp_time_rows].loc[1850:1900].mean()\n",
    "#     )\n",
    "#     surface_temp.plot(x=\"time\", y=\"value\", label=name)\n",
    "    \n",
    "# plt.legend()\n",
    "# plt.title(\"Global Mean Temperature Projection\")\n",
    "# plt.ylabel(\"°C over pre-industrial (1850-1900 mean)\");"
   ]
  },
  {
   "cell_type": "code",
   "execution_count": 17,
   "metadata": {},
   "outputs": [
    {
     "data": {
      "text/html": [
       "<div>\n",
       "<style scoped>\n",
       "    .dataframe tbody tr th:only-of-type {\n",
       "        vertical-align: middle;\n",
       "    }\n",
       "\n",
       "    .dataframe tbody tr th {\n",
       "        vertical-align: top;\n",
       "    }\n",
       "\n",
       "    .dataframe thead th {\n",
       "        text-align: right;\n",
       "    }\n",
       "</style>\n",
       "<table border=\"1\" class=\"dataframe\">\n",
       "  <thead>\n",
       "    <tr style=\"text-align: right;\">\n",
       "      <th></th>\n",
       "      <th>model</th>\n",
       "      <th>scenario</th>\n",
       "      <th>region</th>\n",
       "      <th>variable</th>\n",
       "      <th>unit</th>\n",
       "      <th>time</th>\n",
       "      <th>climate_model</th>\n",
       "      <th>todo</th>\n",
       "      <th>value</th>\n",
       "    </tr>\n",
       "  </thead>\n",
       "  <tbody>\n",
       "    <tr>\n",
       "      <th>0</th>\n",
       "      <td>unspecified</td>\n",
       "      <td>RCP26</td>\n",
       "      <td>World</td>\n",
       "      <td>Atmospheric Concentrations|CH4</td>\n",
       "      <td>ppb</td>\n",
       "      <td>1765-07-12</td>\n",
       "      <td>MAGICC7</td>\n",
       "      <td>N/A</td>\n",
       "      <td>739.40856</td>\n",
       "    </tr>\n",
       "    <tr>\n",
       "      <th>1</th>\n",
       "      <td>unspecified</td>\n",
       "      <td>RCP26</td>\n",
       "      <td>World|Northern Hemisphere|Land</td>\n",
       "      <td>Atmospheric Concentrations|CH4</td>\n",
       "      <td>ppb</td>\n",
       "      <td>1765-07-12</td>\n",
       "      <td>MAGICC7</td>\n",
       "      <td>N/A</td>\n",
       "      <td>759.19697</td>\n",
       "    </tr>\n",
       "    <tr>\n",
       "      <th>2</th>\n",
       "      <td>unspecified</td>\n",
       "      <td>RCP26</td>\n",
       "      <td>World|Northern Hemisphere|Ocean</td>\n",
       "      <td>Atmospheric Concentrations|CH4</td>\n",
       "      <td>ppb</td>\n",
       "      <td>1765-07-12</td>\n",
       "      <td>MAGICC7</td>\n",
       "      <td>N/A</td>\n",
       "      <td>759.19697</td>\n",
       "    </tr>\n",
       "    <tr>\n",
       "      <th>3</th>\n",
       "      <td>unspecified</td>\n",
       "      <td>RCP26</td>\n",
       "      <td>World|Southern Hemisphere|Land</td>\n",
       "      <td>Atmospheric Concentrations|CH4</td>\n",
       "      <td>ppb</td>\n",
       "      <td>1765-07-12</td>\n",
       "      <td>MAGICC7</td>\n",
       "      <td>N/A</td>\n",
       "      <td>719.62015</td>\n",
       "    </tr>\n",
       "    <tr>\n",
       "      <th>4</th>\n",
       "      <td>unspecified</td>\n",
       "      <td>RCP26</td>\n",
       "      <td>World|Southern Hemisphere|Ocean</td>\n",
       "      <td>Atmospheric Concentrations|CH4</td>\n",
       "      <td>ppb</td>\n",
       "      <td>1765-07-12</td>\n",
       "      <td>MAGICC7</td>\n",
       "      <td>N/A</td>\n",
       "      <td>719.62015</td>\n",
       "    </tr>\n",
       "  </tbody>\n",
       "</table>\n",
       "</div>"
      ],
      "text/plain": [
       "         model scenario                           region  \\\n",
       "0  unspecified    RCP26                            World   \n",
       "1  unspecified    RCP26   World|Northern Hemisphere|Land   \n",
       "2  unspecified    RCP26  World|Northern Hemisphere|Ocean   \n",
       "3  unspecified    RCP26   World|Southern Hemisphere|Land   \n",
       "4  unspecified    RCP26  World|Southern Hemisphere|Ocean   \n",
       "\n",
       "                         variable unit       time climate_model todo  \\\n",
       "0  Atmospheric Concentrations|CH4  ppb 1765-07-12       MAGICC7  N/A   \n",
       "1  Atmospheric Concentrations|CH4  ppb 1765-07-12       MAGICC7  N/A   \n",
       "2  Atmospheric Concentrations|CH4  ppb 1765-07-12       MAGICC7  N/A   \n",
       "3  Atmospheric Concentrations|CH4  ppb 1765-07-12       MAGICC7  N/A   \n",
       "4  Atmospheric Concentrations|CH4  ppb 1765-07-12       MAGICC7  N/A   \n",
       "\n",
       "       value  \n",
       "0  739.40856  \n",
       "1  759.19697  \n",
       "2  759.19697  \n",
       "3  719.62015  \n",
       "4  719.62015  "
      ]
     },
     "execution_count": 17,
     "metadata": {},
     "output_type": "execute_result"
    }
   ],
   "source": [
    "results.head()"
   ]
  },
  {
   "cell_type": "code",
   "execution_count": 18,
   "metadata": {},
   "outputs": [
    {
     "data": {
      "text/html": [
       "<div>\n",
       "<style scoped>\n",
       "    .dataframe tbody tr th:only-of-type {\n",
       "        vertical-align: middle;\n",
       "    }\n",
       "\n",
       "    .dataframe tbody tr th {\n",
       "        vertical-align: top;\n",
       "    }\n",
       "\n",
       "    .dataframe thead th {\n",
       "        text-align: right;\n",
       "    }\n",
       "</style>\n",
       "<table border=\"1\" class=\"dataframe\">\n",
       "  <thead>\n",
       "    <tr style=\"text-align: right;\">\n",
       "      <th></th>\n",
       "      <th></th>\n",
       "      <th>exclude</th>\n",
       "    </tr>\n",
       "    <tr>\n",
       "      <th>model</th>\n",
       "      <th>scenario</th>\n",
       "      <th></th>\n",
       "    </tr>\n",
       "  </thead>\n",
       "  <tbody>\n",
       "    <tr>\n",
       "      <th rowspan=\"2\" valign=\"top\">unspecified</th>\n",
       "      <th>RCP26</th>\n",
       "      <td>False</td>\n",
       "    </tr>\n",
       "    <tr>\n",
       "      <th>RCP45</th>\n",
       "      <td>False</td>\n",
       "    </tr>\n",
       "  </tbody>\n",
       "</table>\n",
       "</div>"
      ],
      "text/plain": [
       "                      exclude\n",
       "model       scenario         \n",
       "unspecified RCP26       False\n",
       "            RCP45       False"
      ]
     },
     "execution_count": 18,
     "metadata": {},
     "output_type": "execute_result"
    }
   ],
   "source": [
    "results.meta"
   ]
  },
  {
   "cell_type": "code",
   "execution_count": 20,
   "metadata": {},
   "outputs": [
    {
     "data": {
      "text/plain": [
       "<matplotlib.axes._subplots.AxesSubplot at 0x11d424eb8>"
      ]
     },
     "execution_count": 20,
     "metadata": {},
     "output_type": "execute_result"
    },
    {
     "data": {
      "image/png": "[encoded data removed]",
      "text/plain": [
       "<Figure size 1152x648 with 1 Axes>"
      ]
     },
     "metadata": {},
     "output_type": "display_data"
    }
   ],
   "source": [
    "results.filter(\n",
    "    variable=\"Surface Temperature\",\n",
    "    region=\"World\"\n",
    ").line_plot(x=\"time\")"
   ]
  },
  {
   "cell_type": "markdown",
   "metadata": {},
   "source": [
    "## The faster, mildly more difficult way\n",
    "\n",
    "Use the context manager for the MAGICC version we want. This still creates a copy of the entire run folder, but only once."
   ]
  },
  {
   "cell_type": "code",
   "execution_count": null,
   "metadata": {},
   "outputs": [],
   "source": [
    "with MAGICC7() as magicc:\n",
    "    for name, scen in scenarios.items():\n",
    "        # note that we obviously don't need magicc_version as an argument \n",
    "        # here\n",
    "        results = magicc.run(scen, out_temperature=1)\n",
    "        results_df = results.df\n",
    "        results_df.set_index(\"time\", inplace=True)    \n",
    "\n",
    "        global_temp_time_rows = (\n",
    "            (results_df.variable == \"Surface Temperature\")\n",
    "            & (results_df.region == \"World\")\n",
    "        )\n",
    "\n",
    "        temp = (\n",
    "            results_df.value[global_temp_time_rows].loc[1850:]\n",
    "            - results_df.value[global_temp_time_rows].loc[1850:1900].mean()\n",
    "        )\n",
    "        temp.plot(label=name)\n",
    "\n",
    "plt.legend()\n",
    "plt.title(\"Global Mean Temperature Projection\")\n",
    "plt.ylabel(\"°C over pre-industrial (1850-1900 mean)\");"
   ]
  },
  {
   "cell_type": "markdown",
   "metadata": {},
   "source": [
    "## The even faster, more dangerous and difficult to debug way\n",
    "\n",
    "Use the context manager for the MAGICC version we want and specify the root directory. This doesn't create a copy of the entire run folder, but will modify files in place and blow up if any of your settings are not correct.\n",
    "\n",
    "Common gotchas:\n",
    "\n",
    "- not clearing `out` directory before running so things are super slow\n",
    "- pre-existing `MAGTUNE_PYMAGICC.CFG` file with config you don't want to use, or which you want to overwrite (we currently don't do any overwriting with Pymagicc)"
   ]
  },
  {
   "cell_type": "code",
   "execution_count": null,
   "metadata": {},
   "outputs": [],
   "source": [
    "with MAGICC7(root_dir=\"../../magicc\") as magicc:\n",
    "    # binary readers aren't yet ready and we can't do this through\n",
    "    # the run method just yet\n",
    "    magicc.set_output_variables(\n",
    "        write_ascii=True, write_binary=False, \n",
    "        temperature=True, emissions=True,\n",
    "        parameters=True\n",
    "    )  \n",
    "    for name, scen in scenarios.items():\n",
    "        results = magicc.run(scen)\n",
    "        results.df = results.df.copy()\n",
    "        results.df.set_index(\"time\", inplace=True)    \n",
    "\n",
    "        global_temp_time_rows = (\n",
    "            (results.df.variable == \"Surface Temperature\")\n",
    "            & (results.df.region == \"World\")\n",
    "        )\n",
    "\n",
    "        temp = (\n",
    "            results.df.value[global_temp_time_rows].loc[1850:]\n",
    "            - results.df.value[global_temp_time_rows].loc[1850:1900].mean()\n",
    "        )\n",
    "        temp.plot(label=name)\n",
    "\n",
    "plt.legend()\n",
    "plt.title(\"Global Mean Temperature Projection\")\n",
    "plt.ylabel(\"°C over pre-industrial (1850-1900 mean)\");"
   ]
  },
  {
   "cell_type": "markdown",
   "metadata": {},
   "source": [
    "## Comparing MAGICC6 and MAGICC7\n",
    "\n",
    "Finally, we show how to easily compare MAGICC6 and MAGICC7."
   ]
  },
  {
   "cell_type": "code",
   "execution_count": null,
   "metadata": {},
   "outputs": [],
   "source": [
    "magicc7_results = []\n",
    "with MAGICC7(root_dir=\"../../magicc\") as magicc:\n",
    "    # binary readers aren't yet ready and we can't do this through\n",
    "    # the run method just yet\n",
    "    magicc.set_output_variables(\n",
    "        write_ascii=True, write_binary=False, \n",
    "        temperature=True, emissions=True,\n",
    "        parameters=True\n",
    "    )  \n",
    "    for name, scen in scenarios.items():\n",
    "        results = magicc.run(scen)\n",
    "        results.df[\"Climate Model\"] = \"MAGICC7\"\n",
    "        results.df[\"Scenario\"] = name\n",
    "        magicc7_results.append(results.df)\n",
    "        \n",
    "magicc7_results = pd.concat(magicc7_results)"
   ]
  },
  {
   "cell_type": "code",
   "execution_count": null,
   "metadata": {},
   "outputs": [],
   "source": [
    "magicc6_results = []\n",
    "with MAGICC6() as magicc:\n",
    "    #########################################################\n",
    "    # this doesn't work with MAGICC6 as the flag set is wrong\n",
    "#     magicc.set_output_variables(\n",
    "#         write_ascii=True, write_binary=False, \n",
    "#         temperature=True, emissions=True,\n",
    "#         parameters=True\n",
    "#     )  \n",
    "    #########################################################\n",
    "    for name, scen in scenarios.items():\n",
    "        results = magicc.run(scen, endyear=2500)\n",
    "        results.df[\"Climate Model\"] = \"MAGICC6\"\n",
    "        results.df[\"Scenario\"] = name\n",
    "        magicc6_results.append(results.df)\n",
    "\n",
    "magicc6_results = pd.concat(magicc6_results)"
   ]
  },
  {
   "cell_type": "code",
   "execution_count": null,
   "metadata": {},
   "outputs": [],
   "source": [
    "results = pd.concat([magicc6_results, magicc7_results])"
   ]
  },
  {
   "cell_type": "code",
   "execution_count": null,
   "metadata": {},
   "outputs": [],
   "source": [
    "results.head()"
   ]
  },
  {
   "cell_type": "code",
   "execution_count": null,
   "metadata": {},
   "outputs": [],
   "source": [
    "plt.figure(figsize=(16, 9))\n",
    "for label, df in results.groupby([\"Climate Model\", \"Scenario\"]):\n",
    "    df.set_index(\"time\", inplace=True)    \n",
    "\n",
    "    global_temp_time_rows = (\n",
    "        (df.variable == \"Surface Temperature\")\n",
    "        & (df.region == \"World\")\n",
    "    )\n",
    "\n",
    "    temp = (\n",
    "        df.value[global_temp_time_rows].loc[1850:]\n",
    "        - df.value[global_temp_time_rows].loc[1850:1900].mean()\n",
    "    )\n",
    "    temp.plot(label=label)\n",
    "\n",
    "plt.legend()\n",
    "plt.title(\"Global Mean Temperature Projection\")\n",
    "plt.ylabel(\"°C over pre-industrial (1850-1900 mean)\");"
   ]
  }
 ],
 "metadata": {
  "kernelspec": {
   "display_name": "Python 3",
   "language": "python",
   "name": "python3"
  },
  "language_info": {
   "codemirror_mode": {
    "name": "ipython",
    "version": 3
   },
   "file_extension": ".py",
   "mimetype": "text/x-python",
   "name": "python",
   "nbconvert_exporter": "python",
   "pygments_lexer": "ipython3",
   "version": "3.7.0"
  }
 },
 "nbformat": 4,
 "nbformat_minor": 2
}
