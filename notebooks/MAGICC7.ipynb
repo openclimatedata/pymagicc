{
 "cells": [
  {
   "cell_type": "markdown",
   "metadata": {},
   "source": [
    "# MAGICC7\n",
    "\n",
    "Pymagicc is also MAGICC7 compatible. \n",
    "\n",
    "As yet, the binary is not yet publicly available to it's a bit fiddlier to get setup. Here we give a minimal working example of how to use MAGICC7 with Pymagicc."
   ]
  },
  {
   "cell_type": "markdown",
   "metadata": {},
   "source": [
    "Temporary notes: \n",
    "\n",
    "- add reference period argument to line plot\n",
    "- make seaborn plot to make style etc. nicer"
   ]
  },
  {
   "cell_type": "code",
   "execution_count": null,
   "metadata": {},
   "outputs": [],
   "source": [
    "# NBVAL_IGNORE_OUTPUT\n",
    "\n",
    "import pandas as pd\n",
    "import pymagicc\n",
    "from pymagicc import MAGICC6, MAGICC7\n",
    "from pymagicc.io import MAGICCData\n",
    "\n",
    "from pymagicc import rcp26, rcp45, rcp60, rcp85, scenarios"
   ]
  },
  {
   "cell_type": "code",
   "execution_count": null,
   "metadata": {},
   "outputs": [],
   "source": [
    "# NBVAL_IGNORE_OUTPUT\n",
    "%matplotlib inline\n",
    "from matplotlib import pyplot as plt\n",
    "plt.style.use('ggplot')\n",
    "plt.rcParams['figure.figsize'] = 16, 9"
   ]
  },
  {
   "cell_type": "code",
   "execution_count": null,
   "metadata": {},
   "outputs": [],
   "source": [
    "# set your environment to find your MAGICC binary\n",
    "%env MAGICC_EXECUTABLE_7=../../magicc/run/magicc"
   ]
  },
  {
   "cell_type": "markdown",
   "metadata": {},
   "source": [
    "## The slow, easy way\n",
    "\n",
    "Use the `pymagicc.run` API. This is super slow as it makes a new copy of the entire `magicc/run` directory for each run.\n",
    "\n",
    "A few common issues when using your own setup are:\n",
    "    - output flag settings may mean that you don't get the output you expect\n",
    "    - super slow running as lots of output are being read back in (turn `OUT_XX` flags off to speed things up)\n",
    "    - super slow running as your `out` directory is not empty before you run\n",
    "    - your config file has more than one emissions scenario and/or config flag set (Pymagicc deliberately throws an error here to avoid difficult debugging of overlapping emissions and config inputs)\n",
    "    \n",
    "`MAGCFG_USER.CFG` should have lines like\n",
    "\n",
    "```FORTRAN90\n",
    "  FILE_EMISSCEN =  \"NONE\",\n",
    "  FILE_EMISSCEN_2 =  \"\",\n",
    "  FILE_EMISSCEN_3 =  \"\",\n",
    "  FILE_EMISSCEN_4 =  \"\",\n",
    "  FILE_EMISSCEN_5 =  \"\",\n",
    "  FILE_EMISSCEN_6 =  \"\",\n",
    "  FILE_EMISSCEN_7 =  \"\",\n",
    "  FILE_EMISSCEN_8 =  \"\",\n",
    "  FILE_TUNINGMODEL_1 =  \"PYMAGICC\",\n",
    "  FILE_TUNINGMODEL_2 =  \"USER\",\n",
    "  FILE_TUNINGMODEL_3 =  \"USER\",\n",
    "  FILE_TUNINGMODEL_4 =  \"USER\",\n",
    "  FILE_TUNINGMODEL_5 =  \"USER\",\n",
    "  FILE_TUNINGMODEL_6 =  \"USER\",\n",
    "  FILE_TUNINGMODEL_7 =  \"USER\",\n",
    "  FILE_TUNINGMODEL_8 =  \"USER\",\n",
    "  FILE_TUNINGMODEL_9 =  \"USER\",\n",
    "  FILE_TUNINGMODEL_10 =  \"USER\",\n",
    "```"
   ]
  },
  {
   "cell_type": "code",
   "execution_count": null,
   "metadata": {},
   "outputs": [],
   "source": [
    "for i, (name, scen) in enumerate(scenarios.items()):\n",
    "    print(\"running {}\".format(name))\n",
    "    scen_results = pymagicc.run(scen, magicc_version=7)\n",
    "    if i != 0:\n",
    "        results.append(scen_results)\n",
    "    else:\n",
    "        results = scen_results"
   ]
  },
  {
   "cell_type": "code",
   "execution_count": null,
   "metadata": {},
   "outputs": [],
   "source": [
    "results.filter(\n",
    "    variable=\"Surface Temperature\",\n",
    "    region=\"World\"\n",
    ").line_plot(x=\"time\");"
   ]
  },
  {
   "cell_type": "markdown",
   "metadata": {},
   "source": [
    "## The faster, mildly more difficult way\n",
    "\n",
    "Use the context manager for the MAGICC version we want. This still creates a copy of the entire run folder, but only once."
   ]
  },
  {
   "cell_type": "code",
   "execution_count": null,
   "metadata": {},
   "outputs": [],
   "source": [
    "with MAGICC7() as magicc:\n",
    "    for i, (name, scen) in enumerate(scenarios.items()):\n",
    "        # note that we obviously don't need magicc_version as an argument \n",
    "        # here as it is assigned automatically\n",
    "        print(\"running {}\".format(name))\n",
    "        scen_results = magicc.run(scen)\n",
    "        if i != 0:\n",
    "            results.append(scen_results)\n",
    "        else:\n",
    "            results = scen_results\n",
    "        \n",
    "results.filter(\n",
    "    variable=\"Surface Temperature\",\n",
    "    region=\"World\"\n",
    ").line_plot(x=\"time\");"
   ]
  },
  {
   "cell_type": "markdown",
   "metadata": {},
   "source": [
    "## The even faster, more dangerous and difficult to debug way\n",
    "\n",
    "Use the context manager for the MAGICC version we want and specify the root directory. This doesn't create a copy of the entire run folder, but will modify files in place and hence alter any existing settings in your local copy."
   ]
  },
  {
   "cell_type": "code",
   "execution_count": null,
   "metadata": {},
   "outputs": [],
   "source": [
    "with MAGICC7(root_dir=\"../../magicc\") as magicc:\n",
    "    # binary readers aren't yet ready and we can't do this through\n",
    "    # the run method just yet\n",
    "    magicc.set_output_variables(\n",
    "        write_ascii=False, write_binary=True, \n",
    "        keydata_1=True, emissions=False,\n",
    "        parameters=True\n",
    "    )  \n",
    "    for i, (name, scen) in enumerate(scenarios.items()):\n",
    "        # note that we obviously don't need magicc_version as an argument \n",
    "        # here as it is assigned automatically\n",
    "        print(\"running {}\".format(name))\n",
    "        scen_results = magicc.run(scen)\n",
    "        if i != 0:\n",
    "            results.append(scen_results)\n",
    "        else:\n",
    "            results = scen_results\n",
    "        \n",
    "results.filter(\n",
    "    variable=\"Surface Temperature\",\n",
    "    region=\"World\"\n",
    ").line_plot(x=\"time\");"
   ]
  },
  {
   "cell_type": "markdown",
   "metadata": {},
   "source": [
    "## Comparing MAGICC6 and MAGICC7\n",
    "\n",
    "Finally, we show how to easily compare MAGICC6 and MAGICC7."
   ]
  },
  {
   "cell_type": "code",
   "execution_count": null,
   "metadata": {},
   "outputs": [],
   "source": [
    "for j, mclass in enumerate([MAGICC6, MAGICC7]):\n",
    "    print(\"MAGICC{}\".format(mclass.version))\n",
    "    with mclass() as magicc:\n",
    "        # binary readers aren't yet ready and we can't do this through\n",
    "        # the run method just yet\n",
    "        magicc.set_output_variables(\n",
    "            write_ascii=False, write_binary=True, \n",
    "            keydata_1=True, emissions=False,\n",
    "            parameters=True\n",
    "        )  \n",
    "        for i, (name, scen) in enumerate(scenarios.items()):\n",
    "            # note that we obviously don't need magicc_version as an argument \n",
    "            # here as it is assigned automatically\n",
    "            print(\"running {}\".format(name))\n",
    "            scen_results = magicc.run(scen)\n",
    "            if (i != 0) or (j != 0):\n",
    "                results.append(scen_results)\n",
    "            else:\n",
    "                results = scen_results"
   ]
  },
  {
   "cell_type": "code",
   "execution_count": null,
   "metadata": {},
   "outputs": [],
   "source": [
    "results.filter(\n",
    "    variable=\"Surface Temperature\",\n",
    "    region=\"World\"\n",
    ").line_plot(x=\"time\");"
   ]
  }
 ],
 "metadata": {
  "kernelspec": {
   "display_name": "Python 3",
   "language": "python",
   "name": "python3"
  },
  "language_info": {
   "codemirror_mode": {
    "name": "ipython",
    "version": 3
   },
   "file_extension": ".py",
   "mimetype": "text/x-python",
   "name": "python",
   "nbconvert_exporter": "python",
   "pygments_lexer": "ipython3",
   "version": "3.7.0"
  }
 },
 "nbformat": 4,
 "nbformat_minor": 2
}
