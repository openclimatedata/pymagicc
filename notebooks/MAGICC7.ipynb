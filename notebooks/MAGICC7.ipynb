{
 "cells": [
  {
   "cell_type": "markdown",
   "metadata": {},
   "source": [
    "# MAGICC7\n",
    "\n",
    "Pymagicc is also MAGICC7 compatible. \n",
    "\n",
    "As yet, the binary is not yet publicly available to it's a bit fiddlier to get setup. Here we give a minimal working example of how to use MAGICC7 with Pymagicc."
   ]
  },
  {
   "cell_type": "code",
   "execution_count": 5,
   "metadata": {},
   "outputs": [],
   "source": [
    "# NBVAL_IGNORE_OUTPUT\n",
    "\n",
    "import pandas as pd\n",
    "import pymagicc\n",
    "from pymagicc import MAGICC6, MAGICC7\n",
    "\n",
    "from pymagicc import rcp26, rcp45, rcp60, rcp85, scenarios"
   ]
  },
  {
   "cell_type": "code",
   "execution_count": 3,
   "metadata": {},
   "outputs": [],
   "source": [
    "# NBVAL_IGNORE_OUTPUT\n",
    "%matplotlib inline\n",
    "from matplotlib import pyplot as plt\n",
    "plt.style.use('ggplot')\n",
    "plt.rcParams['figure.figsize'] = 16, 9"
   ]
  },
  {
   "cell_type": "code",
   "execution_count": 4,
   "metadata": {},
   "outputs": [
    {
     "name": "stdout",
     "output_type": "stream",
     "text": [
      "env: MAGICC_EXECUTABLE_7=../../magicc/run/magicc\n"
     ]
    }
   ],
   "source": [
    "# set your environment to find your MAGICC binary\n",
    "%env MAGICC_EXECUTABLE_7=../../magicc/run/magicc"
   ]
  },
  {
   "cell_type": "markdown",
   "metadata": {},
   "source": [
    "## The slow, easy way\n",
    "\n",
    "Use the `pymagicc.run` API. This is super slow as it makes a new copy of the entire `magicc/run` directory for each run.\n",
    "\n",
    "A few common issues when using your own setup are:\n",
    "    - output flag settings may mean that you don't get the output you expect\n",
    "    - your config file has more than one emissions scenario and/or config flag set (Pymagicc deliberately throws an error here to avoid difficult debugging of overlapping emissions and config inputs)"
   ]
  },
  {
   "cell_type": "code",
   "execution_count": 8,
   "metadata": {},
   "outputs": [
    {
     "ename": "ValueError",
     "evalue": "You have more than one `FILE_EMISSCEN_X` flag set. Using more than one emissions scenario is hard to debug and unnecessary with Pymagicc's dataframe scenario input. Please combine all your scenarios into one dataframe with Pymagicc and pandas, then feed this single Dataframe into Pymagicc's run API.",
     "output_type": "error",
     "traceback": [
      "\u001b[0;31m---------------------------------------------------------------------------\u001b[0m",
      "\u001b[0;31mValueError\u001b[0m                                Traceback (most recent call last)",
      "\u001b[0;32m<ipython-input-8-e596b206af92>\u001b[0m in \u001b[0;36m<module>\u001b[0;34m\u001b[0m\n\u001b[1;32m      4\u001b[0m     \u001b[0;31m# - CFG file set up to use too many CFG flags\u001b[0m\u001b[0;34m\u001b[0m\u001b[0;34m\u001b[0m\u001b[0m\n\u001b[1;32m      5\u001b[0m     \u001b[0;31m# - Emission scenario flags set up to use too many scenario inputs\u001b[0m\u001b[0;34m\u001b[0m\u001b[0;34m\u001b[0m\u001b[0m\n\u001b[0;32m----> 6\u001b[0;31m     \u001b[0mresults\u001b[0m \u001b[0;34m=\u001b[0m \u001b[0mpymagicc\u001b[0m\u001b[0;34m.\u001b[0m\u001b[0mrun\u001b[0m\u001b[0;34m(\u001b[0m\u001b[0mscen\u001b[0m\u001b[0;34m,\u001b[0m \u001b[0mmagicc_version\u001b[0m\u001b[0;34m=\u001b[0m\u001b[0;36m7\u001b[0m\u001b[0;34m,\u001b[0m \u001b[0mout_temperature\u001b[0m\u001b[0;34m=\u001b[0m\u001b[0;36m1\u001b[0m\u001b[0;34m)\u001b[0m\u001b[0;34m\u001b[0m\u001b[0m\n\u001b[0m\u001b[1;32m      7\u001b[0m     \u001b[0mresults_df\u001b[0m \u001b[0;34m=\u001b[0m \u001b[0mresults\u001b[0m\u001b[0;34m.\u001b[0m\u001b[0mdf\u001b[0m\u001b[0;34m\u001b[0m\u001b[0m\n\u001b[1;32m      8\u001b[0m     \u001b[0mresults_df\u001b[0m\u001b[0;34m.\u001b[0m\u001b[0mset_index\u001b[0m\u001b[0;34m(\u001b[0m\u001b[0;34m\"time\"\u001b[0m\u001b[0;34m,\u001b[0m \u001b[0minplace\u001b[0m\u001b[0;34m=\u001b[0m\u001b[0;32mTrue\u001b[0m\u001b[0;34m)\u001b[0m\u001b[0;34m\u001b[0m\u001b[0m\n",
      "\u001b[0;32m~/Documents/AGCEC/MCastle/pymagicc/pymagicc/__init__.py\u001b[0m in \u001b[0;36mrun\u001b[0;34m(scenario, magicc_version, **kwargs)\u001b[0m\n\u001b[1;32m    102\u001b[0m \u001b[0;34m\u001b[0m\u001b[0m\n\u001b[1;32m    103\u001b[0m     \u001b[0;32mwith\u001b[0m \u001b[0mmagicc_cls\u001b[0m\u001b[0;34m(\u001b[0m\u001b[0;34m)\u001b[0m \u001b[0;32mas\u001b[0m \u001b[0mmagicc\u001b[0m\u001b[0;34m:\u001b[0m\u001b[0;34m\u001b[0m\u001b[0m\n\u001b[0;32m--> 104\u001b[0;31m         \u001b[0mresults\u001b[0m \u001b[0;34m=\u001b[0m \u001b[0mmagicc\u001b[0m\u001b[0;34m.\u001b[0m\u001b[0mrun\u001b[0m\u001b[0;34m(\u001b[0m\u001b[0mscenario\u001b[0m\u001b[0;34m=\u001b[0m\u001b[0mscenario\u001b[0m\u001b[0;34m,\u001b[0m \u001b[0;34m**\u001b[0m\u001b[0mkwargs\u001b[0m\u001b[0;34m)\u001b[0m\u001b[0;34m\u001b[0m\u001b[0m\n\u001b[0m\u001b[1;32m    105\u001b[0m \u001b[0;34m\u001b[0m\u001b[0m\n\u001b[1;32m    106\u001b[0m     \u001b[0;32mreturn\u001b[0m \u001b[0mresults\u001b[0m\u001b[0;34m\u001b[0m\u001b[0m\n",
      "\u001b[0;32m~/Documents/AGCEC/MCastle/pymagicc/pymagicc/core.py\u001b[0m in \u001b[0;36mrun\u001b[0;34m(self, scenario, only, **kwargs)\u001b[0m\n\u001b[1;32m    206\u001b[0m         \u001b[0mself\u001b[0m\u001b[0;34m.\u001b[0m\u001b[0mupdate_config\u001b[0m\u001b[0;34m(\u001b[0m\u001b[0;34m**\u001b[0m\u001b[0mkwargs\u001b[0m\u001b[0;34m)\u001b[0m\u001b[0;34m\u001b[0m\u001b[0m\n\u001b[1;32m    207\u001b[0m \u001b[0;34m\u001b[0m\u001b[0m\n\u001b[0;32m--> 208\u001b[0;31m         \u001b[0mself\u001b[0m\u001b[0;34m.\u001b[0m\u001b[0mcheck_config\u001b[0m\u001b[0;34m(\u001b[0m\u001b[0;34m)\u001b[0m\u001b[0;34m\u001b[0m\u001b[0m\n\u001b[0m\u001b[1;32m    209\u001b[0m \u001b[0;34m\u001b[0m\u001b[0m\n\u001b[1;32m    210\u001b[0m         \u001b[0mexec_dir\u001b[0m \u001b[0;34m=\u001b[0m \u001b[0mbasename\u001b[0m\u001b[0;34m(\u001b[0m\u001b[0mself\u001b[0m\u001b[0;34m.\u001b[0m\u001b[0moriginal_dir\u001b[0m\u001b[0;34m)\u001b[0m\u001b[0;34m\u001b[0m\u001b[0m\n",
      "\u001b[0;32m~/Documents/AGCEC/MCastle/pymagicc/pymagicc/core.py\u001b[0m in \u001b[0;36mcheck_config\u001b[0;34m(self)\u001b[0m\n\u001b[1;32m    282\u001b[0m             \u001b[0;32melif\u001b[0m \u001b[0mk\u001b[0m\u001b[0;34m.\u001b[0m\u001b[0mstartswith\u001b[0m\u001b[0;34m(\u001b[0m\u001b[0;34m\"file_emisscen_\"\u001b[0m\u001b[0;34m)\u001b[0m\u001b[0;34m:\u001b[0m\u001b[0;34m\u001b[0m\u001b[0m\n\u001b[1;32m    283\u001b[0m                 \u001b[0;32mif\u001b[0m \u001b[0musr_cfg\u001b[0m\u001b[0;34m[\u001b[0m\u001b[0mnml_to_check\u001b[0m\u001b[0;34m]\u001b[0m\u001b[0;34m[\u001b[0m\u001b[0mk\u001b[0m\u001b[0;34m]\u001b[0m \u001b[0;32mnot\u001b[0m \u001b[0;32min\u001b[0m \u001b[0;34m[\u001b[0m\u001b[0;34m\"NONE\"\u001b[0m\u001b[0;34m,\u001b[0m \u001b[0;34m\"\"\u001b[0m\u001b[0;34m]\u001b[0m\u001b[0;34m:\u001b[0m\u001b[0;34m\u001b[0m\u001b[0m\n\u001b[0;32m--> 284\u001b[0;31m                     \u001b[0;32mraise\u001b[0m \u001b[0mValueError\u001b[0m\u001b[0;34m(\u001b[0m\u001b[0memisscen_error_msg\u001b[0m\u001b[0;34m)\u001b[0m\u001b[0;34m\u001b[0m\u001b[0m\n\u001b[0m\u001b[1;32m    285\u001b[0m \u001b[0;34m\u001b[0m\u001b[0m\n\u001b[1;32m    286\u001b[0m     \u001b[0;32mdef\u001b[0m \u001b[0mwrite\u001b[0m\u001b[0;34m(\u001b[0m\u001b[0mself\u001b[0m\u001b[0;34m,\u001b[0m \u001b[0mmdata\u001b[0m\u001b[0;34m,\u001b[0m \u001b[0mname\u001b[0m\u001b[0;34m)\u001b[0m\u001b[0;34m:\u001b[0m\u001b[0;34m\u001b[0m\u001b[0m\n",
      "\u001b[0;31mValueError\u001b[0m: You have more than one `FILE_EMISSCEN_X` flag set. Using more than one emissions scenario is hard to debug and unnecessary with Pymagicc's dataframe scenario input. Please combine all your scenarios into one dataframe with Pymagicc and pandas, then feed this single Dataframe into Pymagicc's run API."
     ]
    }
   ],
   "source": [
    "for name, scen in scenarios.items():\n",
    "    # common gotchas:\n",
    "    # - not getting right output\n",
    "    # - CFG file set up to use too many CFG flags\n",
    "    # - Emission scenario flags set up to use too many scenario inputs\n",
    "    results = pymagicc.run(scen, magicc_version=7, out_temperature=1)\n",
    "    results_df = results.df\n",
    "    results_df.set_index(\"time\", inplace=True)    \n",
    "\n",
    "    global_temp_time_rows = (\n",
    "        (results_df.variable == \"Surface Temperature\")\n",
    "        & (results_df.region == \"World\")\n",
    "    )\n",
    "    \n",
    "    temp = (\n",
    "        results_df.value[global_temp_time_rows].loc[1850:]\n",
    "        - results_df.value[global_temp_time_rows].loc[1850:1900].mean()\n",
    "    )\n",
    "    temp.plot(label=name)\n",
    "    \n",
    "plt.legend()\n",
    "plt.title(\"Global Mean Temperature Projection\")\n",
    "plt.ylabel(\"°C over pre-industrial (1850-1900 mean)\");"
   ]
  },
  {
   "cell_type": "markdown",
   "metadata": {},
   "source": [
    "## The faster, mildly more difficult way\n",
    "\n",
    "Use the context manager for the MAGICC version we want. This still creates a copy of the entire run folder, but only once."
   ]
  },
  {
   "cell_type": "code",
   "execution_count": null,
   "metadata": {},
   "outputs": [],
   "source": [
    "with MAGICC7() as magicc:\n",
    "    for name, scen in scenarios.items():\n",
    "        # note that we obviously don't need magicc_version as an argument \n",
    "        # here\n",
    "        results = magicc.run(scen, out_temperature=1)\n",
    "        results_df = results.df\n",
    "        results_df.set_index(\"time\", inplace=True)    \n",
    "\n",
    "        global_temp_time_rows = (\n",
    "            (results_df.variable == \"Surface Temperature\")\n",
    "            & (results_df.region == \"World\")\n",
    "        )\n",
    "\n",
    "        temp = (\n",
    "            results_df.value[global_temp_time_rows].loc[1850:]\n",
    "            - results_df.value[global_temp_time_rows].loc[1850:1900].mean()\n",
    "        )\n",
    "        temp.plot(label=name)\n",
    "\n",
    "plt.legend()\n",
    "plt.title(\"Global Mean Temperature Projection\")\n",
    "plt.ylabel(\"°C over pre-industrial (1850-1900 mean)\");"
   ]
  },
  {
   "cell_type": "markdown",
   "metadata": {},
   "source": [
    "## The even faster, more dangerous and difficult to debug way\n",
    "\n",
    "Use the context manager for the MAGICC version we want and specify the root directory. This doesn't create a copy of the entire run folder, but will modify files in place and blow up if any of your settings are not correct.\n",
    "\n",
    "Common gotchas:\n",
    "\n",
    "- not clearing `out` directory before running so things are super slow\n",
    "- pre-existing `MAGTUNE_PYMAGICC.CFG` file with config you don't want to use, or which you want to overwrite (we currently don't do any overwriting with Pymagicc)"
   ]
  },
  {
   "cell_type": "code",
   "execution_count": null,
   "metadata": {},
   "outputs": [],
   "source": [
    "with MAGICC7(root_dir=\"../../magicc\") as magicc:\n",
    "    # binary readers aren't yet ready and we can't do this through\n",
    "    # the run method just yet\n",
    "    magicc.set_output_variables(\n",
    "        write_ascii=True, write_binary=False, \n",
    "        temperature=True, emissions=True,\n",
    "        parameters=True\n",
    "    )  \n",
    "    for name, scen in scenarios.items():\n",
    "        results = magicc.run(scen)\n",
    "        results.df = results.df.copy()\n",
    "        results.df.set_index(\"time\", inplace=True)    \n",
    "\n",
    "        global_temp_time_rows = (\n",
    "            (results.df.variable == \"Surface Temperature\")\n",
    "            & (results.df.region == \"World\")\n",
    "        )\n",
    "\n",
    "        temp = (\n",
    "            results.df.value[global_temp_time_rows].loc[1850:]\n",
    "            - results.df.value[global_temp_time_rows].loc[1850:1900].mean()\n",
    "        )\n",
    "        temp.plot(label=name)\n",
    "\n",
    "plt.legend()\n",
    "plt.title(\"Global Mean Temperature Projection\")\n",
    "plt.ylabel(\"°C over pre-industrial (1850-1900 mean)\");"
   ]
  },
  {
   "cell_type": "markdown",
   "metadata": {},
   "source": [
    "## Comparing MAGICC6 and MAGICC7\n",
    "\n",
    "Finally, we show how to easily compare MAGICC6 and MAGICC7."
   ]
  },
  {
   "cell_type": "code",
   "execution_count": null,
   "metadata": {},
   "outputs": [],
   "source": [
    "magicc7_results = []\n",
    "with MAGICC7(root_dir=\"../../magicc\") as magicc:\n",
    "    # binary readers aren't yet ready and we can't do this through\n",
    "    # the run method just yet\n",
    "    magicc.set_output_variables(\n",
    "        write_ascii=True, write_binary=False, \n",
    "        temperature=True, emissions=True,\n",
    "        parameters=True\n",
    "    )  \n",
    "    for name, scen in scenarios.items():\n",
    "        results = magicc.run(scen)\n",
    "        results.df[\"Climate Model\"] = \"MAGICC7\"\n",
    "        results.df[\"Scenario\"] = name\n",
    "        magicc7_results.append(results.df)\n",
    "        \n",
    "magicc7_results = pd.concat(magicc7_results)"
   ]
  },
  {
   "cell_type": "code",
   "execution_count": null,
   "metadata": {},
   "outputs": [],
   "source": [
    "magicc6_results = []\n",
    "with MAGICC6() as magicc:\n",
    "    #########################################################\n",
    "    # this doesn't work with MAGICC6 as the flag set is wrong\n",
    "#     magicc.set_output_variables(\n",
    "#         write_ascii=True, write_binary=False, \n",
    "#         temperature=True, emissions=True,\n",
    "#         parameters=True\n",
    "#     )  \n",
    "    #########################################################\n",
    "    for name, scen in scenarios.items():\n",
    "        results = magicc.run(scen, endyear=2500)\n",
    "        results.df[\"Climate Model\"] = \"MAGICC6\"\n",
    "        results.df[\"Scenario\"] = name\n",
    "        magicc6_results.append(results.df)\n",
    "\n",
    "magicc6_results = pd.concat(magicc6_results)"
   ]
  },
  {
   "cell_type": "code",
   "execution_count": null,
   "metadata": {},
   "outputs": [],
   "source": [
    "results = pd.concat([magicc6_results, magicc7_results])"
   ]
  },
  {
   "cell_type": "code",
   "execution_count": null,
   "metadata": {},
   "outputs": [],
   "source": [
    "results.head()"
   ]
  },
  {
   "cell_type": "code",
   "execution_count": null,
   "metadata": {},
   "outputs": [],
   "source": [
    "plt.figure(figsize=(16, 9))\n",
    "for label, df in results.groupby([\"Climate Model\", \"Scenario\"]):\n",
    "    df.set_index(\"time\", inplace=True)    \n",
    "\n",
    "    global_temp_time_rows = (\n",
    "        (df.variable == \"Surface Temperature\")\n",
    "        & (df.region == \"World\")\n",
    "    )\n",
    "\n",
    "    temp = (\n",
    "        df.value[global_temp_time_rows].loc[1850:]\n",
    "        - df.value[global_temp_time_rows].loc[1850:1900].mean()\n",
    "    )\n",
    "    temp.plot(label=label)\n",
    "\n",
    "plt.legend()\n",
    "plt.title(\"Global Mean Temperature Projection\")\n",
    "plt.ylabel(\"°C over pre-industrial (1850-1900 mean)\");"
   ]
  }
 ],
 "metadata": {
  "kernelspec": {
   "display_name": "Python 3",
   "language": "python",
   "name": "python3"
  },
  "language_info": {
   "codemirror_mode": {
    "name": "ipython",
    "version": 3
   },
   "file_extension": ".py",
   "mimetype": "text/x-python",
   "name": "python",
   "nbconvert_exporter": "python",
   "pygments_lexer": "ipython3",
   "version": "3.7.0"
  }
 },
 "nbformat": 4,
 "nbformat_minor": 2
}
