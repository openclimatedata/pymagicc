{
 "cells": [
  {
   "cell_type": "markdown",
   "metadata": {},
   "source": [
    "# Building scenarios\n",
    "\n",
    "Pymagicc offers the ability to join/merge scenarios to create custom scenarios. Here we show a minimal working example of how to do this."
   ]
  },
  {
   "cell_type": "code",
   "execution_count": 1,
   "metadata": {},
   "outputs": [],
   "source": [
    "from os.path import join\n",
    "\n",
    "from pymagicc import MAGICC6\n",
    "from pymagicc.io import MAGICCData, join_timeseries\n",
    "from pymagicc.definitions import (\n",
    "    convert_magicc7_to_openscm_variables, \n",
    "    PART_OF_SCENFILE_WITH_EMISSIONS_CODE_1\n",
    ")\n",
    "\n",
    "import expectexception\n",
    "\n",
    "import matplotlib.pyplot as plt\n",
    "plt.style.use('bmh') \n",
    "%matplotlib inline"
   ]
  },
  {
   "cell_type": "code",
   "execution_count": 2,
   "metadata": {},
   "outputs": [],
   "source": [
    "DATA_DIR = join(\"..\", \"tests\", \"test_data\")\n",
    "DATA_MAGICC6_RUN = join(\"..\", \"pymagicc\", \"MAGICC6\", \"run\")"
   ]
  },
  {
   "cell_type": "markdown",
   "metadata": {},
   "source": [
    "Firstly we read in the timeseries we want to merge."
   ]
  },
  {
   "cell_type": "code",
   "execution_count": 3,
   "metadata": {},
   "outputs": [],
   "source": [
    "rcp = MAGICCData()\n",
    "rcp.read(join(DATA_DIR, \"RCP3PD_EMISSIONS.DAT\"))\n",
    "base = rcp.df\n",
    "\n",
    "rcp.read(join(DATA_MAGICC6_RUN, \"RCP85.SCEN\"))\n",
    "scen = rcp.df"
   ]
  },
  {
   "cell_type": "markdown",
   "metadata": {},
   "source": [
    "If we try to merge them now, we will receive an error as they have no overlapping indices. "
   ]
  },
  {
   "cell_type": "code",
   "execution_count": 4,
   "metadata": {},
   "outputs": [
    {
     "name": "stdout",
     "output_type": "stream",
     "text": [
      "\u001b[0;31m---------------------------------------------------------------------------\u001b[0m\n",
      "\u001b[0;31mValueError\u001b[0m                                Traceback (most recent call last)\n",
      "\u001b[0;32m<ipython-input-4-03cf48bb256b>\u001b[0m in \u001b[0;36m<module>\u001b[0;34m\u001b[0m\n",
      "\u001b[0;32m----> 1\u001b[0;31m \u001b[0mjoin_timeseries\u001b[0m\u001b[0;34m(\u001b[0m\u001b[0mbase\u001b[0m\u001b[0;34m,\u001b[0m \u001b[0mscen\u001b[0m\u001b[0;34m)\u001b[0m\u001b[0;34m\u001b[0m\u001b[0m\n",
      "\u001b[0m\n",
      "\u001b[0;32m~/Documents/AGCEC/MCastle/pymagicc/pymagicc/io.py\u001b[0m in \u001b[0;36mjoin_timeseries\u001b[0;34m(base, overwrite, join_linear)\u001b[0m\n",
      "\u001b[1;32m   2165\u001b[0m             \u001b[0;32mraise\u001b[0m \u001b[0mValueError\u001b[0m\u001b[0;34m(\u001b[0m\u001b[0;34m\"join_linear must have a length of 2\"\u001b[0m\u001b[0;34m)\u001b[0m\u001b[0;34m\u001b[0m\u001b[0m\n",
      "\u001b[1;32m   2166\u001b[0m \u001b[0;34m\u001b[0m\u001b[0m\n",
      "\u001b[0;32m-> 2167\u001b[0;31m     \u001b[0mresult\u001b[0m \u001b[0;34m=\u001b[0m \u001b[0m_join_timeseries_mdata\u001b[0m\u001b[0;34m(\u001b[0m\u001b[0mbase\u001b[0m\u001b[0;34m,\u001b[0m \u001b[0moverwrite\u001b[0m\u001b[0;34m,\u001b[0m \u001b[0mjoin_linear\u001b[0m\u001b[0;34m)\u001b[0m\u001b[0;34m\u001b[0m\u001b[0m\n",
      "\u001b[0m\u001b[1;32m   2168\u001b[0m \u001b[0;34m\u001b[0m\u001b[0m\n",
      "\u001b[1;32m   2169\u001b[0m     \u001b[0;32mreturn\u001b[0m \u001b[0mresult\u001b[0m\u001b[0;34m\u001b[0m\u001b[0m\n",
      "\n",
      "\u001b[0;32m~/Documents/AGCEC/MCastle/pymagicc/pymagicc/io.py\u001b[0m in \u001b[0;36m_join_timeseries_mdata\u001b[0;34m(base, overwrite, join_linear)\u001b[0m\n",
      "\u001b[1;32m   2179\u001b[0m \u001b[0;34m\u001b[0m\u001b[0m\n",
      "\u001b[1;32m   2180\u001b[0m     \u001b[0;32mif\u001b[0m \u001b[0mresult\u001b[0m\u001b[0;34m.\u001b[0m\u001b[0mstack\u001b[0m\u001b[0;34m(\u001b[0m\u001b[0;34m)\u001b[0m\u001b[0;34m.\u001b[0m\u001b[0mindex\u001b[0m\u001b[0;34m.\u001b[0m\u001b[0mintersection\u001b[0m\u001b[0;34m(\u001b[0m\u001b[0mow\u001b[0m\u001b[0;34m.\u001b[0m\u001b[0mstack\u001b[0m\u001b[0;34m(\u001b[0m\u001b[0;34m)\u001b[0m\u001b[0;34m.\u001b[0m\u001b[0mindex\u001b[0m\u001b[0;34m)\u001b[0m\u001b[0;34m.\u001b[0m\u001b[0mempty\u001b[0m\u001b[0;34m:\u001b[0m\u001b[0;34m\u001b[0m\u001b[0m\n",
      "\u001b[0;32m-> 2181\u001b[0;31m         \u001b[0;32mraise\u001b[0m \u001b[0mValueError\u001b[0m\u001b[0;34m(\u001b[0m\u001b[0;34m\"No overlapping indices, a simple append will do\"\u001b[0m\u001b[0;34m)\u001b[0m\u001b[0;34m\u001b[0m\u001b[0m\n",
      "\u001b[0m\u001b[1;32m   2182\u001b[0m \u001b[0;34m\u001b[0m\u001b[0m\n",
      "\u001b[1;32m   2183\u001b[0m     \u001b[0mresult\u001b[0m\u001b[0;34m.\u001b[0m\u001b[0mupdate\u001b[0m\u001b[0;34m(\u001b[0m\u001b[0mow\u001b[0m\u001b[0;34m,\u001b[0m \u001b[0mraise_conflict\u001b[0m\u001b[0;34m=\u001b[0m\u001b[0;32mFalse\u001b[0m\u001b[0;34m)\u001b[0m\u001b[0;34m\u001b[0m\u001b[0m\n",
      "\n",
      "\u001b[0;31mValueError\u001b[0m: No overlapping indices, a simple append will do\n"
     ]
    }
   ],
   "source": [
    "%%expect_exception ValueError\n",
    "join_timeseries(base, scen)"
   ]
  },
  {
   "cell_type": "markdown",
   "metadata": {},
   "source": [
    "The reason for this is that the data from RCP3PD is read in with the \"todo\" column set to \"N/A\" whilst the data read in from the SCEN file is read in with the \"todo\" column set to \"SET\"."
   ]
  },
  {
   "cell_type": "code",
   "execution_count": null,
   "metadata": {},
   "outputs": [
    {
     "data": {
      "text/html": [
       "<div>\n",
       "<style scoped>\n",
       "    .dataframe tbody tr th:only-of-type {\n",
       "        vertical-align: middle;\n",
       "    }\n",
       "\n",
       "    .dataframe tbody tr th {\n",
       "        vertical-align: top;\n",
       "    }\n",
       "\n",
       "    .dataframe thead th {\n",
       "        text-align: right;\n",
       "    }\n",
       "</style>\n",
       "<table border=\"1\" class=\"dataframe\">\n",
       "  <thead>\n",
       "    <tr style=\"text-align: right;\">\n",
       "      <th></th>\n",
       "      <th>variable</th>\n",
       "      <th>todo</th>\n",
       "      <th>unit</th>\n",
       "      <th>region</th>\n",
       "      <th>time</th>\n",
       "      <th>value</th>\n",
       "    </tr>\n",
       "  </thead>\n",
       "  <tbody>\n",
       "    <tr>\n",
       "      <th>0</th>\n",
       "      <td>Emissions|CO2|MAGICC Fossil and Industrial</td>\n",
       "      <td>N/A</td>\n",
       "      <td>Gt C / yr</td>\n",
       "      <td>World</td>\n",
       "      <td>1765</td>\n",
       "      <td>0.003</td>\n",
       "    </tr>\n",
       "    <tr>\n",
       "      <th>1</th>\n",
       "      <td>Emissions|CO2|MAGICC Fossil and Industrial</td>\n",
       "      <td>N/A</td>\n",
       "      <td>Gt C / yr</td>\n",
       "      <td>World</td>\n",
       "      <td>1766</td>\n",
       "      <td>0.003</td>\n",
       "    </tr>\n",
       "    <tr>\n",
       "      <th>2</th>\n",
       "      <td>Emissions|CO2|MAGICC Fossil and Industrial</td>\n",
       "      <td>N/A</td>\n",
       "      <td>Gt C / yr</td>\n",
       "      <td>World</td>\n",
       "      <td>1767</td>\n",
       "      <td>0.003</td>\n",
       "    </tr>\n",
       "    <tr>\n",
       "      <th>3</th>\n",
       "      <td>Emissions|CO2|MAGICC Fossil and Industrial</td>\n",
       "      <td>N/A</td>\n",
       "      <td>Gt C / yr</td>\n",
       "      <td>World</td>\n",
       "      <td>1768</td>\n",
       "      <td>0.003</td>\n",
       "    </tr>\n",
       "    <tr>\n",
       "      <th>4</th>\n",
       "      <td>Emissions|CO2|MAGICC Fossil and Industrial</td>\n",
       "      <td>N/A</td>\n",
       "      <td>Gt C / yr</td>\n",
       "      <td>World</td>\n",
       "      <td>1769</td>\n",
       "      <td>0.003</td>\n",
       "    </tr>\n",
       "  </tbody>\n",
       "</table>\n",
       "</div>"
      ],
      "text/plain": [
       "                                     variable todo       unit region  time  \\\n",
       "0  Emissions|CO2|MAGICC Fossil and Industrial  N/A  Gt C / yr  World  1765   \n",
       "1  Emissions|CO2|MAGICC Fossil and Industrial  N/A  Gt C / yr  World  1766   \n",
       "2  Emissions|CO2|MAGICC Fossil and Industrial  N/A  Gt C / yr  World  1767   \n",
       "3  Emissions|CO2|MAGICC Fossil and Industrial  N/A  Gt C / yr  World  1768   \n",
       "4  Emissions|CO2|MAGICC Fossil and Industrial  N/A  Gt C / yr  World  1769   \n",
       "\n",
       "   value  \n",
       "0  0.003  \n",
       "1  0.003  \n",
       "2  0.003  \n",
       "3  0.003  \n",
       "4  0.003  "
      ]
     },
     "execution_count": 5,
     "metadata": {},
     "output_type": "execute_result"
    }
   ],
   "source": [
    "base.head()"
   ]
  },
  {
   "cell_type": "code",
   "execution_count": null,
   "metadata": {},
   "outputs": [
    {
     "data": {
      "text/html": [
       "<div>\n",
       "<style scoped>\n",
       "    .dataframe tbody tr th:only-of-type {\n",
       "        vertical-align: middle;\n",
       "    }\n",
       "\n",
       "    .dataframe tbody tr th {\n",
       "        vertical-align: top;\n",
       "    }\n",
       "\n",
       "    .dataframe thead th {\n",
       "        text-align: right;\n",
       "    }\n",
       "</style>\n",
       "<table border=\"1\" class=\"dataframe\">\n",
       "  <thead>\n",
       "    <tr style=\"text-align: right;\">\n",
       "      <th></th>\n",
       "      <th>variable</th>\n",
       "      <th>todo</th>\n",
       "      <th>unit</th>\n",
       "      <th>region</th>\n",
       "      <th>time</th>\n",
       "      <th>value</th>\n",
       "    </tr>\n",
       "  </thead>\n",
       "  <tbody>\n",
       "    <tr>\n",
       "      <th>0</th>\n",
       "      <td>Emissions|CO2|MAGICC Fossil and Industrial</td>\n",
       "      <td>SET</td>\n",
       "      <td>Gt C / yr</td>\n",
       "      <td>World|Bunkers</td>\n",
       "      <td>2000</td>\n",
       "      <td>0.0</td>\n",
       "    </tr>\n",
       "    <tr>\n",
       "      <th>1</th>\n",
       "      <td>Emissions|CO2|MAGICC Fossil and Industrial</td>\n",
       "      <td>SET</td>\n",
       "      <td>Gt C / yr</td>\n",
       "      <td>World|Bunkers</td>\n",
       "      <td>2001</td>\n",
       "      <td>0.0</td>\n",
       "    </tr>\n",
       "    <tr>\n",
       "      <th>2</th>\n",
       "      <td>Emissions|CO2|MAGICC Fossil and Industrial</td>\n",
       "      <td>SET</td>\n",
       "      <td>Gt C / yr</td>\n",
       "      <td>World|Bunkers</td>\n",
       "      <td>2002</td>\n",
       "      <td>0.0</td>\n",
       "    </tr>\n",
       "    <tr>\n",
       "      <th>3</th>\n",
       "      <td>Emissions|CO2|MAGICC Fossil and Industrial</td>\n",
       "      <td>SET</td>\n",
       "      <td>Gt C / yr</td>\n",
       "      <td>World|Bunkers</td>\n",
       "      <td>2003</td>\n",
       "      <td>0.0</td>\n",
       "    </tr>\n",
       "    <tr>\n",
       "      <th>4</th>\n",
       "      <td>Emissions|CO2|MAGICC Fossil and Industrial</td>\n",
       "      <td>SET</td>\n",
       "      <td>Gt C / yr</td>\n",
       "      <td>World|Bunkers</td>\n",
       "      <td>2004</td>\n",
       "      <td>0.0</td>\n",
       "    </tr>\n",
       "  </tbody>\n",
       "</table>\n",
       "</div>"
      ],
      "text/plain": [
       "                                     variable todo       unit         region  \\\n",
       "0  Emissions|CO2|MAGICC Fossil and Industrial  SET  Gt C / yr  World|Bunkers   \n",
       "1  Emissions|CO2|MAGICC Fossil and Industrial  SET  Gt C / yr  World|Bunkers   \n",
       "2  Emissions|CO2|MAGICC Fossil and Industrial  SET  Gt C / yr  World|Bunkers   \n",
       "3  Emissions|CO2|MAGICC Fossil and Industrial  SET  Gt C / yr  World|Bunkers   \n",
       "4  Emissions|CO2|MAGICC Fossil and Industrial  SET  Gt C / yr  World|Bunkers   \n",
       "\n",
       "   time  value  \n",
       "0  2000    0.0  \n",
       "1  2001    0.0  \n",
       "2  2002    0.0  \n",
       "3  2003    0.0  \n",
       "4  2004    0.0  "
      ]
     },
     "execution_count": 6,
     "metadata": {},
     "output_type": "execute_result"
    }
   ],
   "source": [
    "scen.head()"
   ]
  },
  {
   "cell_type": "markdown",
   "metadata": {},
   "source": [
    "We can rectify this by setting the todo column of base."
   ]
  },
  {
   "cell_type": "code",
   "execution_count": null,
   "metadata": {},
   "outputs": [
    {
     "data": {
      "text/html": [
       "<div>\n",
       "<style scoped>\n",
       "    .dataframe tbody tr th:only-of-type {\n",
       "        vertical-align: middle;\n",
       "    }\n",
       "\n",
       "    .dataframe tbody tr th {\n",
       "        vertical-align: top;\n",
       "    }\n",
       "\n",
       "    .dataframe thead th {\n",
       "        text-align: right;\n",
       "    }\n",
       "</style>\n",
       "<table border=\"1\" class=\"dataframe\">\n",
       "  <thead>\n",
       "    <tr style=\"text-align: right;\">\n",
       "      <th></th>\n",
       "      <th>variable</th>\n",
       "      <th>todo</th>\n",
       "      <th>unit</th>\n",
       "      <th>region</th>\n",
       "      <th>time</th>\n",
       "      <th>value</th>\n",
       "    </tr>\n",
       "  </thead>\n",
       "  <tbody>\n",
       "    <tr>\n",
       "      <th>0</th>\n",
       "      <td>Emissions|CO2|MAGICC Fossil and Industrial</td>\n",
       "      <td>SET</td>\n",
       "      <td>Gt C / yr</td>\n",
       "      <td>World</td>\n",
       "      <td>1765</td>\n",
       "      <td>0.003</td>\n",
       "    </tr>\n",
       "    <tr>\n",
       "      <th>1</th>\n",
       "      <td>Emissions|CO2|MAGICC Fossil and Industrial</td>\n",
       "      <td>SET</td>\n",
       "      <td>Gt C / yr</td>\n",
       "      <td>World</td>\n",
       "      <td>1766</td>\n",
       "      <td>0.003</td>\n",
       "    </tr>\n",
       "    <tr>\n",
       "      <th>2</th>\n",
       "      <td>Emissions|CO2|MAGICC Fossil and Industrial</td>\n",
       "      <td>SET</td>\n",
       "      <td>Gt C / yr</td>\n",
       "      <td>World</td>\n",
       "      <td>1767</td>\n",
       "      <td>0.003</td>\n",
       "    </tr>\n",
       "    <tr>\n",
       "      <th>3</th>\n",
       "      <td>Emissions|CO2|MAGICC Fossil and Industrial</td>\n",
       "      <td>SET</td>\n",
       "      <td>Gt C / yr</td>\n",
       "      <td>World</td>\n",
       "      <td>1768</td>\n",
       "      <td>0.003</td>\n",
       "    </tr>\n",
       "    <tr>\n",
       "      <th>4</th>\n",
       "      <td>Emissions|CO2|MAGICC Fossil and Industrial</td>\n",
       "      <td>SET</td>\n",
       "      <td>Gt C / yr</td>\n",
       "      <td>World</td>\n",
       "      <td>1769</td>\n",
       "      <td>0.003</td>\n",
       "    </tr>\n",
       "  </tbody>\n",
       "</table>\n",
       "</div>"
      ],
      "text/plain": [
       "                                     variable todo       unit region  time  \\\n",
       "0  Emissions|CO2|MAGICC Fossil and Industrial  SET  Gt C / yr  World  1765   \n",
       "1  Emissions|CO2|MAGICC Fossil and Industrial  SET  Gt C / yr  World  1766   \n",
       "2  Emissions|CO2|MAGICC Fossil and Industrial  SET  Gt C / yr  World  1767   \n",
       "3  Emissions|CO2|MAGICC Fossil and Industrial  SET  Gt C / yr  World  1768   \n",
       "4  Emissions|CO2|MAGICC Fossil and Industrial  SET  Gt C / yr  World  1769   \n",
       "\n",
       "   value  \n",
       "0  0.003  \n",
       "1  0.003  \n",
       "2  0.003  \n",
       "3  0.003  \n",
       "4  0.003  "
      ]
     },
     "execution_count": 7,
     "metadata": {},
     "output_type": "execute_result"
    }
   ],
   "source": [
    "base[\"todo\"] = \"SET\"\n",
    "base.head()"
   ]
  },
  {
   "cell_type": "markdown",
   "metadata": {},
   "source": [
    "Now the timeseries will join smoothly. In this case we will overwrite the base values with the scen values wherever they are provided. Also note that the output timeseries are inearly interpolated onto annual timesteps (unlike the input SCEN files which have irregular timesteps)."
   ]
  },
  {
   "cell_type": "code",
   "execution_count": null,
   "metadata": {},
   "outputs": [
    {
     "data": {
      "text/plain": [
       "array([1765, 1766, 1767, 1768, 1769, 1770, 1771, 1772, 1773, 1774, 1775,\n",
       "       1776, 1777, 1778, 1779, 1780, 1781, 1782, 1783, 1784, 1785, 1786,\n",
       "       1787, 1788, 1789, 1790, 1791, 1792, 1793, 1794, 1795, 1796, 1797,\n",
       "       1798, 1799, 1800, 1801, 1802, 1803, 1804, 1805, 1806, 1807, 1808,\n",
       "       1809, 1810, 1811, 1812, 1813, 1814, 1815, 1816, 1817, 1818, 1819,\n",
       "       1820, 1821, 1822, 1823, 1824, 1825, 1826, 1827, 1828, 1829, 1830,\n",
       "       1831, 1832, 1833, 1834, 1835, 1836, 1837, 1838, 1839, 1840, 1841,\n",
       "       1842, 1843, 1844, 1845, 1846, 1847, 1848, 1849, 1850, 1851, 1852,\n",
       "       1853, 1854, 1855, 1856, 1857, 1858, 1859, 1860, 1861, 1862, 1863,\n",
       "       1864, 1865, 1866, 1867, 1868, 1869, 1870, 1871, 1872, 1873, 1874,\n",
       "       1875, 1876, 1877, 1878, 1879, 1880, 1881, 1882, 1883, 1884, 1885,\n",
       "       1886, 1887, 1888, 1889, 1890, 1891, 1892, 1893, 1894, 1895, 1896,\n",
       "       1897, 1898, 1899, 1900, 1901, 1902, 1903, 1904, 1905, 1906, 1907,\n",
       "       1908, 1909, 1910, 1911, 1912, 1913, 1914, 1915, 1916, 1917, 1918,\n",
       "       1919, 1920, 1921, 1922, 1923, 1924, 1925, 1926, 1927, 1928, 1929,\n",
       "       1930, 1931, 1932, 1933, 1934, 1935, 1936, 1937, 1938, 1939, 1940,\n",
       "       1941, 1942, 1943, 1944, 1945, 1946, 1947, 1948, 1949, 1950, 1951,\n",
       "       1952, 1953, 1954, 1955, 1956, 1957, 1958, 1959, 1960, 1961, 1962,\n",
       "       1963, 1964, 1965, 1966, 1967, 1968, 1969, 1970, 1971, 1972, 1973,\n",
       "       1974, 1975, 1976, 1977, 1978, 1979, 1980, 1981, 1982, 1983, 1984,\n",
       "       1985, 1986, 1987, 1988, 1989, 1990, 1991, 1992, 1993, 1994, 1995,\n",
       "       1996, 1997, 1998, 1999, 2000, 2001, 2002, 2003, 2004, 2005, 2006,\n",
       "       2007, 2008, 2009, 2010, 2011, 2012, 2013, 2014, 2015, 2016, 2017,\n",
       "       2018, 2019, 2020, 2021, 2022, 2023, 2024, 2025, 2026, 2027, 2028,\n",
       "       2029, 2030, 2031, 2032, 2033, 2034, 2035, 2036, 2037, 2038, 2039,\n",
       "       2040, 2041, 2042, 2043, 2044, 2045, 2046, 2047, 2048, 2049, 2050,\n",
       "       2051, 2052, 2053, 2054, 2055, 2056, 2057, 2058, 2059, 2060, 2061,\n",
       "       2062, 2063, 2064, 2065, 2066, 2067, 2068, 2069, 2070, 2071, 2072,\n",
       "       2073, 2074, 2075, 2076, 2077, 2078, 2079, 2080, 2081, 2082, 2083,\n",
       "       2084, 2085, 2086, 2087, 2088, 2089, 2090, 2091, 2092, 2093, 2094,\n",
       "       2095, 2096, 2097, 2098, 2099, 2100, 2101, 2102, 2103, 2104, 2105,\n",
       "       2106, 2107, 2108, 2109, 2110, 2111, 2112, 2113, 2114, 2115, 2116,\n",
       "       2117, 2118, 2119, 2120, 2121, 2122, 2123, 2124, 2125, 2126, 2127,\n",
       "       2128, 2129, 2130, 2131, 2132, 2133, 2134, 2135, 2136, 2137, 2138,\n",
       "       2139, 2140, 2141, 2142, 2143, 2144, 2145, 2146, 2147, 2148, 2149,\n",
       "       2150, 2151, 2152, 2153, 2154, 2155, 2156, 2157, 2158, 2159, 2160,\n",
       "       2161, 2162, 2163, 2164, 2165, 2166, 2167, 2168, 2169, 2170, 2171,\n",
       "       2172, 2173, 2174, 2175, 2176, 2177, 2178, 2179, 2180, 2181, 2182,\n",
       "       2183, 2184, 2185, 2186, 2187, 2188, 2189, 2190, 2191, 2192, 2193,\n",
       "       2194, 2195, 2196, 2197, 2198, 2199, 2200, 2201, 2202, 2203, 2204,\n",
       "       2205, 2206, 2207, 2208, 2209, 2210, 2211, 2212, 2213, 2214, 2215,\n",
       "       2216, 2217, 2218, 2219, 2220, 2221, 2222, 2223, 2224, 2225, 2226,\n",
       "       2227, 2228, 2229, 2230, 2231, 2232, 2233, 2234, 2235, 2236, 2237,\n",
       "       2238, 2239, 2240, 2241, 2242, 2243, 2244, 2245, 2246, 2247, 2248,\n",
       "       2249, 2250, 2251, 2252, 2253, 2254, 2255, 2256, 2257, 2258, 2259,\n",
       "       2260, 2261, 2262, 2263, 2264, 2265, 2266, 2267, 2268, 2269, 2270,\n",
       "       2271, 2272, 2273, 2274, 2275, 2276, 2277, 2278, 2279, 2280, 2281,\n",
       "       2282, 2283, 2284, 2285, 2286, 2287, 2288, 2289, 2290, 2291, 2292,\n",
       "       2293, 2294, 2295, 2296, 2297, 2298, 2299, 2300, 2301, 2302, 2303,\n",
       "       2304, 2305, 2306, 2307, 2308, 2309, 2310, 2311, 2312, 2313, 2314,\n",
       "       2315, 2316, 2317, 2318, 2319, 2320, 2321, 2322, 2323, 2324, 2325,\n",
       "       2326, 2327, 2328, 2329, 2330, 2331, 2332, 2333, 2334, 2335, 2336,\n",
       "       2337, 2338, 2339, 2340, 2341, 2342, 2343, 2344, 2345, 2346, 2347,\n",
       "       2348, 2349, 2350, 2351, 2352, 2353, 2354, 2355, 2356, 2357, 2358,\n",
       "       2359, 2360, 2361, 2362, 2363, 2364, 2365, 2366, 2367, 2368, 2369,\n",
       "       2370, 2371, 2372, 2373, 2374, 2375, 2376, 2377, 2378, 2379, 2380,\n",
       "       2381, 2382, 2383, 2384, 2385, 2386, 2387, 2388, 2389, 2390, 2391,\n",
       "       2392, 2393, 2394, 2395, 2396, 2397, 2398, 2399, 2400, 2401, 2402,\n",
       "       2403, 2404, 2405, 2406, 2407, 2408, 2409, 2410, 2411, 2412, 2413,\n",
       "       2414, 2415, 2416, 2417, 2418, 2419, 2420, 2421, 2422, 2423, 2424,\n",
       "       2425, 2426, 2427, 2428, 2429, 2430, 2431, 2432, 2433, 2434, 2435,\n",
       "       2436, 2437, 2438, 2439, 2440, 2441, 2442, 2443, 2444, 2445, 2446,\n",
       "       2447, 2448, 2449, 2450, 2451, 2452, 2453, 2454, 2455, 2456, 2457,\n",
       "       2458, 2459, 2460, 2461, 2462, 2463, 2464, 2465, 2466, 2467, 2468,\n",
       "       2469, 2470, 2471, 2472, 2473, 2474, 2475, 2476, 2477, 2478, 2479,\n",
       "       2480, 2481, 2482, 2483, 2484, 2485, 2486, 2487, 2488, 2489, 2490,\n",
       "       2491, 2492, 2493, 2494, 2495, 2496, 2497, 2498, 2499, 2500])"
      ]
     },
     "execution_count": 8,
     "metadata": {},
     "output_type": "execute_result"
    }
   ],
   "source": [
    "my_scen = join_timeseries(base, scen)\n",
    "my_scen[\"time\"].unique()"
   ]
  },
  {
   "cell_type": "markdown",
   "metadata": {},
   "source": [
    "Note that only variable-region-unit combinations which are included in the base dataframe will be included in the resulting dataframe. Hence the output dataframe will not include the regional data from the scen file (downscaling is another issue entirely)."
   ]
  },
  {
   "cell_type": "code",
   "execution_count": null,
   "metadata": {},
   "outputs": [
    {
     "data": {
      "text/html": [
       "<div>\n",
       "<style scoped>\n",
       "    .dataframe tbody tr th:only-of-type {\n",
       "        vertical-align: middle;\n",
       "    }\n",
       "\n",
       "    .dataframe tbody tr th {\n",
       "        vertical-align: top;\n",
       "    }\n",
       "\n",
       "    .dataframe thead th {\n",
       "        text-align: right;\n",
       "    }\n",
       "</style>\n",
       "<table border=\"1\" class=\"dataframe\">\n",
       "  <thead>\n",
       "    <tr style=\"text-align: right;\">\n",
       "      <th></th>\n",
       "      <th>todo</th>\n",
       "      <th>unit</th>\n",
       "      <th>variable</th>\n",
       "      <th>region</th>\n",
       "      <th>time</th>\n",
       "      <th>value</th>\n",
       "    </tr>\n",
       "  </thead>\n",
       "  <tbody>\n",
       "  </tbody>\n",
       "</table>\n",
       "</div>"
      ],
      "text/plain": [
       "Empty DataFrame\n",
       "Columns: [todo, unit, variable, region, time, value]\n",
       "Index: []"
      ]
     },
     "execution_count": 9,
     "metadata": {},
     "output_type": "execute_result"
    }
   ],
   "source": [
    "my_scen[my_scen[\"region\"] == \"R5OECD\"]"
   ]
  },
  {
   "cell_type": "markdown",
   "metadata": {},
   "source": [
    "We can check the results as shown."
   ]
  },
  {
   "cell_type": "code",
   "execution_count": null,
   "metadata": {},
   "outputs": [
    {
     "data": {
      "image/png": "[encoded data removed]",
      "text/plain": [
       "<Figure size 1152x648 with 1 Axes>"
      ]
     },
     "metadata": {
      "needs_background": "light"
     },
     "output_type": "display_data"
    }
   ],
   "source": [
    "var_to_plot = \"Emissions|CO2|MAGICC Fossil and Industrial\"\n",
    "\n",
    "ax = my_scen[\n",
    "    my_scen[\"variable\"] == var_to_plot\n",
    "].plot(x=\"time\", y=\"value\", label=\"merged\", figsize=(16, 9))\n",
    "base[\n",
    "    (base[\"variable\"] == var_to_plot)\n",
    "    & (base[\"region\"] == \"World\")\n",
    "].plot(x=\"time\", y=\"value\", label=\"raw\", ax=ax)\n",
    "scen[\n",
    "    (scen[\"variable\"] == var_to_plot)\n",
    "    & (scen[\"region\"] == \"World\")\n",
    "].plot(x=\"time\", y=\"value\", label=\"scenario\", ls=\":\", ax=ax)\n",
    "ax.set_xlim([1995, 2010])\n",
    "ax.set_ylim([6, 10]);"
   ]
  },
  {
   "cell_type": "markdown",
   "metadata": {},
   "source": [
    "If we put our scenario into a MAGICCData object and select only the variables which are used in SCEN files, we can then run it using Pymagicc."
   ]
  },
  {
   "cell_type": "code",
   "execution_count": null,
   "metadata": {},
   "outputs": [
    {
     "name": "stderr",
     "output_type": "stream",
     "text": [
      "/Users/zebedeenicholls/Documents/AGCEC/MCastle/pymagicc/pymagicc/io.py:1506: UserWarning: Ignoring input data which is not required for .SCEN file\n",
      "  warnings.warn(\"Ignoring input data which is not required for .SCEN file\")\n"
     ]
    }
   ],
   "source": [
    "# scen_vars = convert_magicc7_to_openscm_variables(\n",
    "#     [v + \"_EMIS\" for v in PART_OF_SCENFILE_WITH_EMISSIONS_CODE_1]\n",
    "# )\n",
    "\n",
    "magicc_scen = MAGICCData()\n",
    "magicc_scen.df = my_scen#[my_scen[\"variable\"].isin(scen_vars)].copy()\n",
    "for v in [\"variable\", \"region\", \"todo\", \"unit\"]:\n",
    "    magicc_scen.df.loc[:, v] = magicc_scen.df[v].astype(str)\n",
    "    \n",
    "with MAGICC6() as magicc:\n",
    "    results = magicc.run(magicc_scen)"
   ]
  },
  {
   "cell_type": "code",
   "execution_count": null,
   "metadata": {},
   "outputs": [
    {
     "data": {
      "image/png": "[encoded data removed]",
      "text/plain": [
       "<Figure size 432x288 with 1 Axes>"
      ]
     },
     "metadata": {
      "needs_background": "light"
     },
     "output_type": "display_data"
    }
   ],
   "source": [
    "results.df[\n",
    "    (results.df[\"variable\"] == \"Surface Temperature\")\n",
    "    & (results.df[\"region\"] == \"World\")\n",
    "].plot(x=\"time\", y=\"value\");"
   ]
  },
  {
   "cell_type": "markdown",
   "metadata": {},
   "source": [
    "We can also join the timeseries with a linear join period. This allows us to use some base scenario, overwrite with a multitude of other scenarios but ensure they all have a common historical period and some roughly smooth transition. At the moment the linear join period is the only option, a far more complete would be to use the [Aneris](https://github.com/iiasa/aneris) package but this would be a far more difficult step."
   ]
  },
  {
   "cell_type": "code",
   "execution_count": null,
   "metadata": {},
   "outputs": [],
   "source": [
    "linear_scen = join_timeseries(base, scen, join_linear=[2000, 2010])\n",
    "var_to_plot = \"Emissions|CO2|MAGICC Fossil and Industrial\"\n",
    "\n",
    "ax = linear_scen[\n",
    "    linear_scen[\"variable\"] == var_to_plot\n",
    "].plot(x=\"time\", y=\"value\", label=\"merged\", figsize=(16, 9))\n",
    "base[\n",
    "    (base[\"variable\"] == var_to_plot)\n",
    "    & (base[\"region\"] == \"World\")\n",
    "].plot(x=\"time\", y=\"value\", label=\"raw\", ax=ax)\n",
    "scen[\n",
    "    (scen[\"variable\"] == var_to_plot)\n",
    "    & (scen[\"region\"] == \"World\")\n",
    "].plot(x=\"time\", y=\"value\", label=\"scenario\", ls=\":\", ax=ax)\n",
    "ax.set_xlim([1995, 2015])\n",
    "ax.set_ylim([6, 10]);"
   ]
  },
  {
   "cell_type": "code",
   "execution_count": null,
   "metadata": {},
   "outputs": [],
   "source": [
    "scen_vars = convert_magicc7_to_openscm_variables(\n",
    "    [v + \"_EMIS\" for v in PART_OF_SCENFILE_WITH_EMISSIONS_CODE_1]\n",
    ")\n",
    "\n",
    "magicc_scen = MAGICCData()\n",
    "magicc_scen.df = linear_scen[linear_scen[\"variable\"].isin(scen_vars)].copy()\n",
    "for v in [\"variable\", \"region\", \"todo\", \"unit\"]:\n",
    "    magicc_scen.df.loc[:, v] = magicc_scen.df[v].astype(str)\n",
    "    \n",
    "with MAGICC6() as magicc:\n",
    "    results = magicc.run(magicc_scen)"
   ]
  },
  {
   "cell_type": "code",
   "execution_count": null,
   "metadata": {},
   "outputs": [],
   "source": [
    "results.df[\n",
    "    (results.df[\"variable\"] == \"Surface Temperature\")\n",
    "    & (results.df[\"region\"] == \"World\")\n",
    "].plot(x=\"time\", y=\"value\");"
   ]
  },
  {
   "cell_type": "code",
   "execution_count": null,
   "metadata": {},
   "outputs": [],
   "source": []
  }
 ],
 "metadata": {
  "kernelspec": {
   "display_name": "Python 3",
   "language": "python",
   "name": "python3"
  },
  "language_info": {
   "codemirror_mode": {
    "name": "ipython",
    "version": 3
   },
   "file_extension": ".py",
   "mimetype": "text/x-python",
   "name": "python",
   "nbconvert_exporter": "python",
   "pygments_lexer": "ipython3",
   "version": "3.6.5"
  }
 },
 "nbformat": 4,
 "nbformat_minor": 2
}
