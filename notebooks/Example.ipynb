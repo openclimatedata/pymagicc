{
 "cells": [
  {
   "cell_type": "markdown",
   "metadata": {},
   "source": [
    "# Pymagicc Usage Examples"
   ]
  },
  {
   "cell_type": "code",
   "execution_count": 2,
   "metadata": {},
   "outputs": [],
   "source": [
    "%matplotlib inline\n",
    "from matplotlib import pyplot as plt\n",
    "plt.style.use('ggplot')\n",
    "plt.rcParams['figure.figsize'] = 16, 9"
   ]
  },
  {
   "cell_type": "code",
   "execution_count": 3,
   "metadata": {},
   "outputs": [],
   "source": [
    "import pymagicc"
   ]
  },
  {
   "cell_type": "code",
   "execution_count": 4,
   "metadata": {},
   "outputs": [],
   "source": [
    "from pymagicc import rcp26, rcp45, rcp60, rcp85, scenarios"
   ]
  },
  {
   "cell_type": "markdown",
   "metadata": {},
   "source": [
    "## Scenarios\n",
    "\n",
    "The four RCP scenarios are already preloaded as DataFrames in pyhector. They contain the following emissions:\n"
   ]
  },
  {
   "cell_type": "code",
   "execution_count": 16,
   "metadata": {},
   "outputs": [
    {
     "data": {
      "text/plain": [
       "Index(['FossilCO2', 'OtherCO2', 'CH4', 'N2O', 'SOx', 'CO', 'NMVOC', 'NOx',\n       'BC', 'OC', 'NH3', 'CF4', 'C2F6', 'C6F14', 'HFC23', 'HFC32', 'HFC43-10',\n       'HFC125', 'HFC134a', 'HFC143a', 'HFC227ea', 'HFC245fa', 'SF6'],\n      dtype='object')"
      ]
     },
     "execution_count": 16,
     "metadata": {},
     "output_type": "execute_result"
    }
   ],
   "source": [
    "rcp26[\"WORLD\"].columns"
   ]
  },
  {
   "cell_type": "markdown",
   "metadata": {},
   "source": [
    "They are split up in regions:"
   ]
  },
  {
   "cell_type": "code",
   "execution_count": 6,
   "metadata": {},
   "outputs": [
    {
     "data": {
      "text/plain": [
       "dict_keys(['WORLD', 'R5OECD', 'R5REF', 'R5ASIA', 'R5MAF', 'R5LAM', 'BUNKERS'])"
      ]
     },
     "execution_count": 6,
     "metadata": {},
     "output_type": "execute_result"
    }
   ],
   "source": [
    "rcp26.keys()"
   ]
  },
  {
   "cell_type": "code",
   "execution_count": 17,
   "metadata": {},
   "outputs": [
    {
     "data": {
      "text/html": [
       "<div>\n",
       "<style scoped>\n",
       "    .dataframe tbody tr th:only-of-type {\n",
       "        vertical-align: middle;\n",
       "    }\n",
       "\n",
       "    .dataframe tbody tr th {\n",
       "        vertical-align: top;\n",
       "    }\n",
       "\n",
       "    .dataframe thead th {\n",
       "        text-align: right;\n",
       "    }\n",
       "</style>\n",
       "<table border=\"1\" class=\"dataframe\">\n",
       "  <thead>\n",
       "    <tr style=\"text-align: right;\">\n",
       "      <th></th>\n",
       "      <th>FossilCO2</th>\n",
       "      <th>OtherCO2</th>\n",
       "      <th>CH4</th>\n",
       "      <th>N2O</th>\n",
       "      <th>SOx</th>\n",
       "      <th>CO</th>\n",
       "      <th>NMVOC</th>\n",
       "      <th>NOx</th>\n",
       "      <th>BC</th>\n",
       "      <th>OC</th>\n",
       "      <th>...</th>\n",
       "      <th>C6F14</th>\n",
       "      <th>HFC23</th>\n",
       "      <th>HFC32</th>\n",
       "      <th>HFC43-10</th>\n",
       "      <th>HFC125</th>\n",
       "      <th>HFC134a</th>\n",
       "      <th>HFC143a</th>\n",
       "      <th>HFC227ea</th>\n",
       "      <th>HFC245fa</th>\n",
       "      <th>SF6</th>\n",
       "    </tr>\n",
       "    <tr>\n",
       "      <th>YEARS</th>\n",
       "      <th></th>\n",
       "      <th></th>\n",
       "      <th></th>\n",
       "      <th></th>\n",
       "      <th></th>\n",
       "      <th></th>\n",
       "      <th></th>\n",
       "      <th></th>\n",
       "      <th></th>\n",
       "      <th></th>\n",
       "      <th></th>\n",
       "      <th></th>\n",
       "      <th></th>\n",
       "      <th></th>\n",
       "      <th></th>\n",
       "      <th></th>\n",
       "      <th></th>\n",
       "      <th></th>\n",
       "      <th></th>\n",
       "      <th></th>\n",
       "      <th></th>\n",
       "    </tr>\n",
       "  </thead>\n",
       "  <tbody>\n",
       "    <tr>\n",
       "      <th>2000</th>\n",
       "      <td>6.735</td>\n",
       "      <td>1.1488</td>\n",
       "      <td>300.2070</td>\n",
       "      <td>7.4567</td>\n",
       "      <td>53.8413</td>\n",
       "      <td>1068.0009</td>\n",
       "      <td>210.6230</td>\n",
       "      <td>38.1623</td>\n",
       "      <td>7.8048</td>\n",
       "      <td>35.5434</td>\n",
       "      <td>...</td>\n",
       "      <td>0.4624</td>\n",
       "      <td>10.3949</td>\n",
       "      <td>4.0000</td>\n",
       "      <td>0.0000</td>\n",
       "      <td>8.5381</td>\n",
       "      <td>75.0394</td>\n",
       "      <td>6.2341</td>\n",
       "      <td>1.951</td>\n",
       "      <td>17.9257</td>\n",
       "      <td>5.5382</td>\n",
       "    </tr>\n",
       "    <tr>\n",
       "      <th>2001</th>\n",
       "      <td>6.896</td>\n",
       "      <td>1.1320</td>\n",
       "      <td>303.4093</td>\n",
       "      <td>7.5029</td>\n",
       "      <td>54.4192</td>\n",
       "      <td>1066.7447</td>\n",
       "      <td>211.5938</td>\n",
       "      <td>38.2888</td>\n",
       "      <td>7.8946</td>\n",
       "      <td>35.7143</td>\n",
       "      <td>...</td>\n",
       "      <td>0.4651</td>\n",
       "      <td>10.4328</td>\n",
       "      <td>5.3987</td>\n",
       "      <td>0.6470</td>\n",
       "      <td>9.0301</td>\n",
       "      <td>84.0409</td>\n",
       "      <td>7.4947</td>\n",
       "      <td>1.645</td>\n",
       "      <td>19.7183</td>\n",
       "      <td>5.6990</td>\n",
       "    </tr>\n",
       "    <tr>\n",
       "      <th>2002</th>\n",
       "      <td>6.949</td>\n",
       "      <td>1.2317</td>\n",
       "      <td>306.5787</td>\n",
       "      <td>7.5487</td>\n",
       "      <td>54.9960</td>\n",
       "      <td>1065.4692</td>\n",
       "      <td>212.5632</td>\n",
       "      <td>38.4153</td>\n",
       "      <td>7.9841</td>\n",
       "      <td>35.8846</td>\n",
       "      <td>...</td>\n",
       "      <td>0.4058</td>\n",
       "      <td>10.4708</td>\n",
       "      <td>6.7974</td>\n",
       "      <td>1.2941</td>\n",
       "      <td>9.8853</td>\n",
       "      <td>94.7162</td>\n",
       "      <td>8.7389</td>\n",
       "      <td>2.508</td>\n",
       "      <td>21.5109</td>\n",
       "      <td>5.8596</td>\n",
       "    </tr>\n",
       "    <tr>\n",
       "      <th>2003</th>\n",
       "      <td>7.286</td>\n",
       "      <td>1.2256</td>\n",
       "      <td>309.7165</td>\n",
       "      <td>7.5942</td>\n",
       "      <td>55.5716</td>\n",
       "      <td>1064.1742</td>\n",
       "      <td>213.5311</td>\n",
       "      <td>38.5418</td>\n",
       "      <td>8.0734</td>\n",
       "      <td>36.0543</td>\n",
       "      <td>...</td>\n",
       "      <td>0.3939</td>\n",
       "      <td>10.5083</td>\n",
       "      <td>8.1961</td>\n",
       "      <td>1.9411</td>\n",
       "      <td>12.0788</td>\n",
       "      <td>101.4157</td>\n",
       "      <td>9.9776</td>\n",
       "      <td>3.341</td>\n",
       "      <td>23.3034</td>\n",
       "      <td>6.0202</td>\n",
       "    </tr>\n",
       "    <tr>\n",
       "      <th>2004</th>\n",
       "      <td>7.672</td>\n",
       "      <td>1.2428</td>\n",
       "      <td>312.8241</td>\n",
       "      <td>7.6394</td>\n",
       "      <td>56.1461</td>\n",
       "      <td>1062.8596</td>\n",
       "      <td>214.4977</td>\n",
       "      <td>38.6683</td>\n",
       "      <td>8.1624</td>\n",
       "      <td>36.2233</td>\n",
       "      <td>...</td>\n",
       "      <td>0.4062</td>\n",
       "      <td>10.5455</td>\n",
       "      <td>9.5948</td>\n",
       "      <td>2.5881</td>\n",
       "      <td>12.5074</td>\n",
       "      <td>113.9297</td>\n",
       "      <td>11.2136</td>\n",
       "      <td>4.269</td>\n",
       "      <td>25.0960</td>\n",
       "      <td>6.1806</td>\n",
       "    </tr>\n",
       "  </tbody>\n",
       "</table>\n",
       "<p>5 rows × 23 columns</p>\n",
       "</div>"
      ],
      "text/plain": [
       "<div>\n",
       "<style scoped>\n",
       "    .dataframe tbody tr th:only-of-type {\n",
       "        vertical-align: middle;\n",
       "    }\n",
       "\n",
       "    .dataframe tbody tr th {\n",
       "        vertical-align: top;\n",
       "    }\n",
       "\n",
       "    .dataframe thead th {\n",
       "        text-align: right;\n",
       "    }\n",
       "</style>\n",
       "<table border=\"1\" class=\"dataframe\">\n",
       "  <thead>\n",
       "    <tr style=\"text-align: right;\">\n",
       "      <th></th>\n",
       "      <th>FossilCO2</th>\n",
       "      <th>OtherCO2</th>\n",
       "      <th>CH4</th>\n",
       "      <th>N2O</th>\n",
       "      <th>SOx</th>\n",
       "      <th>CO</th>\n",
       "      <th>NMVOC</th>\n",
       "      <th>NOx</th>\n",
       "      <th>BC</th>\n",
       "      <th>OC</th>\n",
       "      <th>...</th>\n",
       "      <th>C6F14</th>\n",
       "      <th>HFC23</th>\n",
       "      <th>HFC32</th>\n",
       "      <th>HFC43-10</th>\n",
       "      <th>HFC125</th>\n",
       "      <th>HFC134a</th>\n",
       "      <th>HFC143a</th>\n",
       "      <th>HFC227ea</th>\n",
       "      <th>HFC245fa</th>\n",
       "      <th>SF6</th>\n",
       "    </tr>\n",
       "    <tr>\n",
       "      <th>YEARS</th>\n",
       "      <th></th>\n",
       "      <th></th>\n",
       "      <th></th>\n",
       "      <th></th>\n",
       "      <th></th>\n",
       "      <th></th>\n",
       "      <th></th>\n",
       "      <th></th>\n",
       "      <th></th>\n",
       "      <th></th>\n",
       "      <th></th>\n",
       "      <th></th>\n",
       "      <th></th>\n",
       "      <th></th>\n",
       "      <th></th>\n",
       "      <th></th>\n",
       "      <th></th>\n",
       "      <th></th>\n",
       "      <th></th>\n",
       "      <th></th>\n",
       "      <th></th>\n",
       "    </tr>\n",
       "  </thead>\n",
       "  <tbody>\n",
       "    <tr>\n",
       "      <th>2000</th>\n",
       "      <td>6.735</td>\n",
       "      <td>1.1488</td>\n",
       "      <td>300.2070</td>\n",
       "      <td>7.4567</td>\n",
       "      <td>53.8413</td>\n",
       "      <td>1068.0009</td>\n",
       "      <td>210.6230</td>\n",
       "      <td>38.1623</td>\n",
       "      <td>7.8048</td>\n",
       "      <td>35.5434</td>\n",
       "      <td>...</td>\n",
       "      <td>0.4624</td>\n",
       "      <td>10.3949</td>\n",
       "      <td>4.0000</td>\n",
       "      <td>0.0000</td>\n",
       "      <td>8.5381</td>\n",
       "      <td>75.0394</td>\n",
       "      <td>6.2341</td>\n",
       "      <td>1.951</td>\n",
       "      <td>17.9257</td>\n",
       "      <td>5.5382</td>\n",
       "    </tr>\n",
       "    <tr>\n",
       "      <th>2001</th>\n",
       "      <td>6.896</td>\n",
       "      <td>1.1320</td>\n",
       "      <td>303.4093</td>\n",
       "      <td>7.5029</td>\n",
       "      <td>54.4192</td>\n",
       "      <td>1066.7447</td>\n",
       "      <td>211.5938</td>\n",
       "      <td>38.2888</td>\n",
       "      <td>7.8946</td>\n",
       "      <td>35.7143</td>\n",
       "      <td>...</td>\n",
       "      <td>0.4651</td>\n",
       "      <td>10.4328</td>\n",
       "      <td>5.3987</td>\n",
       "      <td>0.6470</td>\n",
       "      <td>9.0301</td>\n",
       "      <td>84.0409</td>\n",
       "      <td>7.4947</td>\n",
       "      <td>1.645</td>\n",
       "      <td>19.7183</td>\n",
       "      <td>5.6990</td>\n",
       "    </tr>\n",
       "    <tr>\n",
       "      <th>2002</th>\n",
       "      <td>6.949</td>\n",
       "      <td>1.2317</td>\n",
       "      <td>306.5787</td>\n",
       "      <td>7.5487</td>\n",
       "      <td>54.9960</td>\n",
       "      <td>1065.4692</td>\n",
       "      <td>212.5632</td>\n",
       "      <td>38.4153</td>\n",
       "      <td>7.9841</td>\n",
       "      <td>35.8846</td>\n",
       "      <td>...</td>\n",
       "      <td>0.4058</td>\n",
       "      <td>10.4708</td>\n",
       "      <td>6.7974</td>\n",
       "      <td>1.2941</td>\n",
       "      <td>9.8853</td>\n",
       "      <td>94.7162</td>\n",
       "      <td>8.7389</td>\n",
       "      <td>2.508</td>\n",
       "      <td>21.5109</td>\n",
       "      <td>5.8596</td>\n",
       "    </tr>\n",
       "    <tr>\n",
       "      <th>2003</th>\n",
       "      <td>7.286</td>\n",
       "      <td>1.2256</td>\n",
       "      <td>309.7165</td>\n",
       "      <td>7.5942</td>\n",
       "      <td>55.5716</td>\n",
       "      <td>1064.1742</td>\n",
       "      <td>213.5311</td>\n",
       "      <td>38.5418</td>\n",
       "      <td>8.0734</td>\n",
       "      <td>36.0543</td>\n",
       "      <td>...</td>\n",
       "      <td>0.3939</td>\n",
       "      <td>10.5083</td>\n",
       "      <td>8.1961</td>\n",
       "      <td>1.9411</td>\n",
       "      <td>12.0788</td>\n",
       "      <td>101.4157</td>\n",
       "      <td>9.9776</td>\n",
       "      <td>3.341</td>\n",
       "      <td>23.3034</td>\n",
       "      <td>6.0202</td>\n",
       "    </tr>\n",
       "    <tr>\n",
       "      <th>2004</th>\n",
       "      <td>7.672</td>\n",
       "      <td>1.2428</td>\n",
       "      <td>312.8241</td>\n",
       "      <td>7.6394</td>\n",
       "      <td>56.1461</td>\n",
       "      <td>1062.8596</td>\n",
       "      <td>214.4977</td>\n",
       "      <td>38.6683</td>\n",
       "      <td>8.1624</td>\n",
       "      <td>36.2233</td>\n",
       "      <td>...</td>\n",
       "      <td>0.4062</td>\n",
       "      <td>10.5455</td>\n",
       "      <td>9.5948</td>\n",
       "      <td>2.5881</td>\n",
       "      <td>12.5074</td>\n",
       "      <td>113.9297</td>\n",
       "      <td>11.2136</td>\n",
       "      <td>4.269</td>\n",
       "      <td>25.0960</td>\n",
       "      <td>6.1806</td>\n",
       "    </tr>\n",
       "  </tbody>\n",
       "</table>\n",
       "<p>5 rows × 23 columns</p>\n",
       "</div>"
      ]
     },
     "execution_count": 17,
     "metadata": {},
     "output_type": "execute_result"
    }
   ],
   "source": [
    "rcp26[\"WORLD\"].head()"
   ]
  },
  {
   "cell_type": "markdown",
   "metadata": {},
   "source": [
    "They have the following units:"
   ]
  },
  {
   "cell_type": "code",
   "execution_count": 8,
   "metadata": {},
   "outputs": [
    {
     "data": {
      "text/plain": [
       "{'BC': 'Mt',\n 'C2F6': 'kt',\n 'C6F14': 'kt',\n 'CF4': 'kt',\n 'CH4': 'MtCH4',\n 'CO': 'MtCO',\n 'FossilCO2': 'GtC',\n 'HFC125': 'kt',\n 'HFC134a': 'kt',\n 'HFC143a': 'kt',\n 'HFC227ea': 'kt',\n 'HFC23': 'kt',\n 'HFC245fa': 'kt',\n 'HFC32': 'kt',\n 'HFC43-10': 'kt',\n 'N2O': 'MtN2O-N',\n 'NH3': 'MtN',\n 'NMVOC': 'Mt',\n 'NOx': 'MtN',\n 'OC': 'Mt',\n 'OtherCO2': 'GtC',\n 'SF6': 'kt',\n 'SOx': 'MtS',\n 'YEARS': 'Yrs'}"
      ]
     },
     "execution_count": 8,
     "metadata": {},
     "output_type": "execute_result"
    }
   ],
   "source": [
    "pymagicc.units"
   ]
  },
  {
   "cell_type": "markdown",
   "metadata": {},
   "source": [
    "A plot of four categories in RCP3PD"
   ]
  },
  {
   "cell_type": "code",
   "execution_count": 9,
   "metadata": {},
   "outputs": [
    {
     "data": {
      "image/png": "[encoded data removed]",
      "text/plain": [
       "<Figure size 432x288 with 4 Axes>"
      ]
     },
     "metadata": {},
     "output_type": "display_data"
    }
   ],
   "source": [
    "emissions = [\"FossilCO2\", \"OtherCO2\", \"CH4\", \"N2O\"]\n",
    "rcp26[\"WORLD\"][emissions].loc[:2150].plot(subplots=True);\n",
    "plt.suptitle(\"RCP2.6\");"
   ]
  },
  {
   "cell_type": "markdown",
   "metadata": {},
   "source": [
    "Fossil fuel emissions for the four RCP scenarios."
   ]
  },
  {
   "cell_type": "code",
   "execution_count": 10,
   "metadata": {},
   "outputs": [
    {
     "data": {
      "image/png": "[encoded data removed]",
      "text/plain": [
       "<Figure size 432x288 with 1 Axes>"
      ]
     },
     "metadata": {},
     "output_type": "display_data"
    }
   ],
   "source": [
    "for name, scen in scenarios.items():\n",
    "    scen[\"WORLD\"].loc[:2100].FossilCO2.plot(label=name)\n",
    "plt.legend()\n",
    "plt.ylabel(pymagicc.units[\"FossilCO2\"])\n",
    "plt.title(\"Fossil Fuel emissions (CO₂) for RCP scenarios\");"
   ]
  },
  {
   "cell_type": "markdown",
   "metadata": {},
   "source": [
    "## Running MAGICC\n",
    "\n",
    "A single `pymagicc` run doesn't take long and returns a Pandas Dict.\n",
    "(If not on Windows, the very first run might be slower due to setting up Wine.)"
   ]
  },
  {
   "cell_type": "code",
   "execution_count": 12,
   "metadata": {},
   "outputs": [
    {
     "name": "stdout",
     "output_type": "stream",
     "text": [
      "CPU times: user 730 ms, sys: 30.6 ms, total: 760 ms\nWall time: 927 ms\n"
     ]
    }
   ],
   "source": [
    "%time results = pymagicc.run(rcp26)"
   ]
  },
  {
   "cell_type": "code",
   "execution_count": 13,
   "metadata": {},
   "outputs": [
    {
     "data": {
      "image/png": "[encoded data removed]",
      "text/plain": [
       "<Figure size 432x288 with 1 Axes>"
      ]
     },
     "metadata": {},
     "output_type": "display_data"
    }
   ],
   "source": [
    "for name, scen in scenarios.items():\n",
    "    results = pymagicc.run(scen)\n",
    "    temp = (results[\"SURFACE_TEMP\"].GLOBAL.loc[1850:] - \n",
    "            results[\"SURFACE_TEMP\"].GLOBAL.loc[1850:1900].mean())\n",
    "    temp.plot(label=name)\n",
    "plt.legend()\n",
    "plt.title(\"Global Mean Temperature Projection\")\n",
    "plt.ylabel(\"°C over pre-industrial (1850-1900 mean)\");\n",
    "    "
   ]
  },
  {
   "cell_type": "markdown",
   "metadata": {},
   "source": [
    "The default parameters are the ones that were used to produce the RCP GHG concentrations (see also http://live.magicc.org/). Of course it's easy to change them."
   ]
  },
  {
   "cell_type": "code",
   "execution_count": 14,
   "metadata": {},
   "outputs": [],
   "source": [
    "low = pymagicc.run(rcp45, core_climatesensitivity=1.5)\n",
    "default = pymagicc.run(rcp45, core_climatesensitivity=3)\n",
    "high = pymagicc.run(rcp45, core_climatesensitivity=4.5)"
   ]
  },
  {
   "cell_type": "code",
   "execution_count": null,
   "metadata": {},
   "outputs": [],
   "source": [
    "sel = slice(1850, 2100)\n",
    "plt.fill_between(low[\"SURFACE_TEMP\"].loc[sel].index,\n",
    "                 low[\"SURFACE_TEMP\"].loc[sel].GLOBAL,\n",
    "                 high[\"SURFACE_TEMP\"].loc[sel].GLOBAL,\n",
    "                 color=\"lightgray\")\n",
    "default[\"SURFACE_TEMP\"].loc[sel].GLOBAL.plot()\n",
    "plt.title(\n",
    "    \"RCP 4.5 with equilibrium climate sensitivity set to 1.5, 3, and 4.5\"\n",
    ")\n",
    "plt.ylabel(\"°C\");\n"
   ]
  },
  {
   "cell_type": "code",
   "execution_count": null,
   "metadata": {},
   "outputs": [],
   "source": []
  }
 ],
 "metadata": {
  "kernelspec": {
   "display_name": "Python 3",
   "language": "python",
   "name": "python3"
  },
  "language_info": {
   "codemirror_mode": {
    "name": "ipython",
    "version": 3
   },
   "file_extension": ".py",
   "mimetype": "text/x-python",
   "name": "python",
   "nbconvert_exporter": "python",
   "pygments_lexer": "ipython3",
   "version": "3.5.3"
  },
  "widgets": {
   "state": {},
   "version": "1.1.2"
  }
 },
 "nbformat": 4,
 "nbformat_minor": 2
}
