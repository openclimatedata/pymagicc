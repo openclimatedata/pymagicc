{
 "cells": [
  {
   "cell_type": "markdown",
   "metadata": {},
   "source": [
    "# Converting SCEN7 files to SCEN\n",
    "\n",
    "Hacky notebook which may have some useful bits but shouldn't ever appear in master of pymagicc in this form."
   ]
  },
  {
   "cell_type": "code",
   "execution_count": 1,
   "metadata": {},
   "outputs": [
    {
     "data": {
      "application/javascript": [
       "IPython.OutputArea.prototype._should_scroll = function(lines) { return false; }"
      ],
      "text/plain": [
       "<IPython.core.display.Javascript object>"
      ]
     },
     "metadata": {},
     "output_type": "display_data"
    }
   ],
   "source": [
    "%matplotlib inline\n",
    "\n",
    "from os import listdir\n",
    "from os.path import join, dirname\n",
    "from pprint import pprint\n",
    "from copy import deepcopy\n",
    "\n",
    "import pandas as pd\n",
    "import numpy as np\n",
    "import pyam\n",
    "from pyam.utils import LONG_IDX\n",
    "import pint\n",
    "from pint.pandas_interface import PintArray\n",
    "from pint.errors import DimensionalityError\n",
    "\n",
    "import pymagicc\n",
    "from pymagicc.io import MAGICCData\n",
    "\n",
    "import matplotlib.pyplot as plt\n",
    "plt.style.use('bmh') \n",
    "\n",
    "import expectexception"
   ]
  },
  {
   "cell_type": "code",
   "execution_count": 2,
   "metadata": {},
   "outputs": [],
   "source": [
    "scen7_path = \"/Users/zebedeenicholls/Documents/AGCEC/UniMelb-Teaching/Climate-Modelling-and-Climate-Change-ERTH90026/notebooks/MAGICC7/run/\""
   ]
  },
  {
   "cell_type": "code",
   "execution_count": 30,
   "metadata": {},
   "outputs": [],
   "source": [
    "def make_total_vars(mdata):\n",
    "    variables = mdata.df.columns.get_level_values(\"VARIABLE\")\n",
    "    to_append = []\n",
    "    for var in variables:\n",
    "        pair_var = var.replace(\"I_\", \"B_\")\n",
    "        if (pair_var in variables) and (pair_var != var):\n",
    "            var_df = mdata[var].copy()\n",
    "            var_df.columns = var_df.columns.droplevel('VARIABLE')\n",
    "\n",
    "            pair_var_df = mdata[pair_var].copy()\n",
    "            pair_var_df.columns = pair_var_df.columns.droplevel('VARIABLE')\n",
    "\n",
    "            sum_df = var_df + pair_var_df\n",
    "            var_base = var.split(\"_\")[0][:-1]\n",
    "            total_var = \"_\".join([var_base, \"EMIS\"])\n",
    "            sum_df = pd.concat([sum_df], keys=[total_var], names=[\"VARIABLE\"], axis=1)\n",
    "            to_append.append(sum_df)\n",
    "\n",
    "    mdata.df = pd.concat([mdata.df] + to_append, axis=1)\n",
    "    mdata.df   \n",
    "    \n",
    "    return mdata\n",
    "\n",
    "def convert_scen7_to_scen_hack(scen_file_path, scen_file_name):\n",
    "    mdata = MAGICCData()\n",
    "    mdata.read(filepath=scen_file_path, filename=scen_file_name)\n",
    "    \n",
    "    mdatatwo = MAGICCData()\n",
    "    mdatatwo.read(filepath=scen_file_path, filename=scen_file_name.replace(\"WORLD_Ext2250.SCEN7\", \"HFC_C2F6_CF4_SF6_Ext2250.SCEN7\"))\n",
    "    \n",
    "    mdatathree = MAGICCData()\n",
    "    mdatathree.read(filepath=scen_file_path, filename=scen_file_name.replace(\"WORLD_Ext2250.SCEN7\", \"HFC_C2F6_CF4_SF6_MISSGAS_Ext2250.SCEN7\"))\n",
    "    \n",
    "    mdata.df = pd.concat([mdata.df, mdatatwo.df, mdatathree.df], axis=1)\n",
    "    \n",
    "    mdata = make_total_vars(mdata)\n",
    "\n",
    "    expect_vars = [v + \"_EMIS\" for v in pymagicc.definitions.scen_emms_code_1]\n",
    "    mdata.df = mdata.iloc[\n",
    "        :, \n",
    "        mdata.columns.get_level_values(\"VARIABLE\").isin(expect_vars)\n",
    "    ].dropna().T.drop_duplicates().T\n",
    "\n",
    "    mdata.write(scen_file_name.replace(\"SCEN7\", \"SCEN\"), scen_file_path)"
   ]
  },
  {
   "cell_type": "code",
   "execution_count": 31,
   "metadata": {},
   "outputs": [],
   "source": [
    "mdata = MAGICCData(scen7_path)\n",
    "for f in listdir(scen7_path):\n",
    "    if not f.endswith(\"WORLD_Ext2250.SCEN7\"):\n",
    "        continue\n",
    "    convert_scen7_to_scen_hack(scen7_path, f)"
   ]
  },
  {
   "cell_type": "code",
   "execution_count": null,
   "metadata": {},
   "outputs": [],
   "source": []
  }
 ],
 "metadata": {
  "kernelspec": {
   "display_name": "Python 3",
   "language": "python",
   "name": "python3"
  },
  "language_info": {
   "codemirror_mode": {
    "name": "ipython",
    "version": 3
   },
   "file_extension": ".py",
   "mimetype": "text/x-python",
   "name": "python",
   "nbconvert_exporter": "python",
   "pygments_lexer": "ipython3",
   "version": "3.6.5"
  }
 },
 "nbformat": 4,
 "nbformat_minor": 2
}
