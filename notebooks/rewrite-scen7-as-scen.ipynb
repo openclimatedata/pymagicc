{
 "cells": [
  {
   "cell_type": "markdown",
   "metadata": {},
   "source": [
    "# Converting SCEN7 files to SCEN\n",
    "\n",
    "Hacky notebook which may have some useful bits but shouldn't ever appear in master of pymagicc in this form."
   ]
  },
  {
   "cell_type": "code",
   "execution_count": 1,
   "metadata": {},
   "outputs": [
    {
     "data": {
      "application/javascript": [
       "IPython.OutputArea.prototype._should_scroll = function(lines) { return false; }"
      ],
      "text/plain": [
       "<IPython.core.display.Javascript object>"
      ]
     },
     "metadata": {},
     "output_type": "display_data"
    }
   ],
   "source": [
    "%matplotlib inline\n",
    "\n",
    "from os import listdir\n",
    "from os.path import join, dirname\n",
    "from pprint import pprint\n",
    "from copy import deepcopy\n",
    "\n",
    "import pandas as pd\n",
    "import numpy as np\n",
    "import pyam\n",
    "from pyam.utils import LONG_IDX\n",
    "import pint\n",
    "from pint.pandas_interface import PintArray\n",
    "from pint.errors import DimensionalityError\n",
    "\n",
    "import pymagicc\n",
    "from pymagicc.io import MAGICCData\n",
    "\n",
    "import matplotlib.pyplot as plt\n",
    "plt.style.use('bmh') \n",
    "\n",
    "import expectexception"
   ]
  },
  {
   "cell_type": "code",
   "execution_count": 2,
   "metadata": {},
   "outputs": [],
   "source": [
    "scen7_path = \"/Users/zebedeenicholls/Downloads/drive-download-20181003T174949Z-001/\""
   ]
  },
  {
   "cell_type": "code",
   "execution_count": 3,
   "metadata": {},
   "outputs": [],
   "source": [
    "def make_total_vars(mdata):\n",
    "    variables = mdata.df.columns.get_level_values(\"VARIABLE\")\n",
    "    to_append = []\n",
    "    for var in variables:\n",
    "        pair_var = var.replace(\"I_\", \"B_\")\n",
    "        if (pair_var in variables) and (pair_var != var):\n",
    "            var_df = mdata[var].copy()\n",
    "            var_df.columns = var_df.columns.droplevel('VARIABLE')\n",
    "\n",
    "            pair_var_df = mdata[pair_var].copy()\n",
    "            pair_var_df.columns = pair_var_df.columns.droplevel('VARIABLE')\n",
    "\n",
    "            sum_df = var_df + pair_var_df\n",
    "            var_base = var.split(\"_\")[0][:-1]\n",
    "            total_var = \"_\".join([var_base, \"EMIS\"])\n",
    "            sum_df = pd.concat([sum_df], keys=[total_var], names=[\"VARIABLE\"], axis=1)\n",
    "            to_append.append(sum_df)\n",
    "\n",
    "    mdata.df = pd.concat([mdata.df] + to_append, axis=1)\n",
    "    \n",
    "    return mdata\n",
    "\n",
    "def make_world_totals(mdata):\n",
    "    variables = mdata.df.columns.get_level_values(\"VARIABLE\").unique()\n",
    "    to_append = []\n",
    "    for var in variables:\n",
    "        var_df = mdata[var]\n",
    "        if \"WORLD\" in var_df.columns.get_level_values(\"REGION\"):\n",
    "            continue\n",
    "            \n",
    "        world_df = pd.DataFrame(var_df.sum(axis=1)).copy()\n",
    "        \n",
    "        world_df.columns = pd.MultiIndex.from_arrays(\n",
    "            [\n",
    "                [var_df.columns.get_level_values(\"VARIABLE\")[0]], \n",
    "                [var_df.columns.get_level_values(\"TODO\")[0]], \n",
    "                [var_df.columns.get_level_values(\"UNITS\")[0]], \n",
    "                [\"WORLD\"]\n",
    "            ],\n",
    "            names=[\"VARIABLE\", \"TODO\", \"UNITS\", \"REGION\"]\n",
    "        )\n",
    "\n",
    "        to_append.append(world_df)\n",
    "\n",
    "    mdata.df = pd.concat([mdata.df] + to_append, axis=1)\n",
    "    \n",
    "    return mdata\n",
    "\n",
    "def convert_scen7_to_scen_hack(scen_file_path, scen_file_name):\n",
    "    mdata = MAGICCData()\n",
    "    mdata.read(filepath=scen_file_path, filename=scen_file_name)\n",
    "    \n",
    "    mdatatwo = MAGICCData()\n",
    "    mdatatwo.read(filepath=scen_file_path, filename=scen_file_name.replace(\"ERTH90026\", \"ERTH90026_HALO\"))\n",
    "    \n",
    "#     mdatathree = MAGICCData()\n",
    "#     mdatathree.read(filepath=scen_file_path, filename=scen_file_name.replace(\"WORLD_Ext2250.SCEN7\", \"HFC_C2F6_CF4_SF6_MISSGAS_Ext2250.SCEN7\"))\n",
    "    \n",
    "    mdata.df = pd.concat([mdata.df, mdatatwo.df], axis=1)\n",
    "    \n",
    "    mdata = make_total_vars(mdata)\n",
    "\n",
    "    expect_vars = [v + \"_EMIS\" for v in pymagicc.definitions.scen_emms_code_1]\n",
    "    mdata.df = mdata.iloc[\n",
    "        :, \n",
    "        mdata.columns.get_level_values(\"VARIABLE\").isin(expect_vars)\n",
    "    ].dropna().T.drop_duplicates().T\n",
    "    \n",
    "    mdata = make_world_totals(mdata)\n",
    "    \n",
    "    mdata.df = mdata[\"WORLD\"]\n",
    "    \n",
    "#     regions = mdata.df.columns.get_level_values(\"REGION\").tolist()\n",
    "#     for i, level in enumerate(mdata.df.columns.levels):\n",
    "#         if level.name == \"REGION\":\n",
    "#             regions = mdata.df.columns.levels[i]\n",
    "#             break\n",
    "#     region_mappings = {\n",
    "#         \"R6OECD90\": \"R5OECD\",\n",
    "#         \"R6ASIA\": \"R5ASIA\",\n",
    "#         \"R6MAF\": \"R5MAF\",\n",
    "#         \"R6LAM\": \"R5LAM\",\n",
    "#         \"R6REF\": \"R5REF\",\n",
    "#     }\n",
    "#     for region in region_mappings:\n",
    "#         regions = [\n",
    "#             region_mappings[r] \n",
    "#             if r in region_mappings else r \n",
    "#             for r in regions\n",
    "#         ]\n",
    "    \n",
    "#     mdata.df.columns = mdata.df.columns.set_levels(\n",
    "#         regions,\n",
    "#         level=\"REGION\",\n",
    "#     )\n",
    "\n",
    "    mdata.write(scen_file_name.replace(\"SCEN7\", \"SCEN\"), scen_file_path)"
   ]
  },
  {
   "cell_type": "code",
   "execution_count": 6,
   "metadata": {},
   "outputs": [],
   "source": [
    "for f in listdir(scen7_path):\n",
    "    if (\"HALO\" in f) or (not f.endswith(\"SCEN7\")):\n",
    "        continue\n",
    "    convert_scen7_to_scen_hack(scen7_path, f)"
   ]
  },
  {
   "cell_type": "code",
   "execution_count": null,
   "metadata": {},
   "outputs": [],
   "source": []
  }
 ],
 "metadata": {
  "kernelspec": {
   "display_name": "Python 3",
   "language": "python",
   "name": "python3"
  },
  "language_info": {
   "codemirror_mode": {
    "name": "ipython",
    "version": 3
   },
   "file_extension": ".py",
   "mimetype": "text/x-python",
   "name": "python",
   "nbconvert_exporter": "python",
   "pygments_lexer": "ipython3",
   "version": "3.6.5"
  }
 },
 "nbformat": 4,
 "nbformat_minor": 2
}
